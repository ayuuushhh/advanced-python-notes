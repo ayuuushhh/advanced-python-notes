{
 "cells": [
  {
   "attachments": {},
   "cell_type": "markdown",
   "metadata": {},
   "source": [
    "# Advanced Python"
   ]
  },
  {
   "cell_type": "markdown",
   "metadata": {},
   "source": [
    "Why Python? and if Python, then why advanced Python? Studying advanced Python yields multifaceted benefits, encompassing both personal and professional spheres. Advanced Python proficiency empowers individuals to engineer elegant and efficient solutions to complex problems, fostering innovation and driving organizational success.\n",
    "\n",
    "1. **Enhanced Problem Solving:** Advanced Python proficiency equips practitioners with a diverse toolkit of advanced data structures, algorithms, and language features. This arsenal empowers developers to architect optimized and scalable solutions to intricate challenges, enhancing their problem-solving acumen.\n",
    "\n",
    "2. **Code Efficiency:** Mastery of advanced Python constructs allows for the creation of concise and readable code. Proficient developers can optimize code execution, minimizing computational overhead and bolstering software performance.\n",
    "\n",
    "3. **Elevated Productivity:** Familiarity with advanced Python libraries and frameworks expedites development cycles. Leveraging these tools enables the rapid creation of sophisticated applications, propelling developers towards heightened productivity.\n",
    "\n",
    "4. **Career Advancement:** Proficiency in advanced Python is a valuable asset in the job market. Organizations seek adept Python developers for roles involving data science, machine learning, web development, and more. Mastery of advanced concepts widens career prospects and enhances earning potential.\n",
    "\n",
    "5. **Innovation and Versatility:** Advanced Python enables the creation of cutting-edge applications in emerging domains such as artificial intelligence, machine learning, and data science. A strong foundation in advanced Python positions developers to drive innovation and contribute to transformative technologies.\n",
    "\n",
    "6. **Collaborative Agility:** Adeptness in advanced Python fosters seamless collaboration among development teams. A common skill set streamlines communication, facilitates code reviews, and ensures consistent code quality.\n",
    "\n",
    "7. **Software Maintainability:** Advanced Python practices emphasize modular design and encapsulation. This results in maintainable and extensible codebases, simplifying future updates and adaptations.\n",
    "\n",
    "8. **Personal Growth:** Learning advanced Python cultivates cognitive skills like abstraction, algorithmic thinking, and pattern recognition. These skills transcend programming and contribute to holistic personal development.\n",
    "\n",
    "9. **Contribution to Open Source:** Proficient Python developers can actively contribute to the open-source community. Sharing knowledge and collaborating on projects enriches the global programming ecosystem.\n",
    "\n",
    "10. **Preparation for Emerging Trends:** As the technological landscape evolves, Python remains at the forefront. Adeptness in advanced Python ensures preparedness to embrace new paradigms, languages, and technologies that build upon this robust foundation.\n",
    "\n",
    "In summation, the study of advanced Python offers a profound array of advantages, encompassing technical prowess, career progression, and personal growth. By delving into its intricacies, individuals position themselves as agile and influential contributors to the dynamic world of software development."
   ]
  },
  {
   "attachments": {},
   "cell_type": "markdown",
   "metadata": {},
   "source": [
    "## Part I: Object-Oriented Programming"
   ]
  },
  {
   "attachments": {},
   "cell_type": "markdown",
   "metadata": {},
   "source": [
    "### Classes"
   ]
  },
  {
   "attachments": {},
   "cell_type": "markdown",
   "metadata": {},
   "source": [
    "Object-Oriented Programming (OOP) in Python entails the creation of blueprints, facilitating structured software development. A class, denoted with an uppercase name, serves as this blueprint and encapsulates functions, referred to as methods. A class is typically populated with methods, yet if desired, a `pass` command can render it inactive. This concise definition encapsulates the essence of OOP principles."
   ]
  },
  {
   "cell_type": "code",
   "execution_count": 8,
   "metadata": {},
   "outputs": [],
   "source": [
    "class Dog:\n",
    "    pass"
   ]
  },
  {
   "attachments": {},
   "cell_type": "markdown",
   "metadata": {},
   "source": [
    "The following shows how one can add variables/attributes in the class. These are global private attributes within the class. It can only be accessed in the class."
   ]
  },
  {
   "cell_type": "code",
   "execution_count": 9,
   "metadata": {},
   "outputs": [
    {
     "ename": "NameError",
     "evalue": "name 'info' is not defined",
     "output_type": "error",
     "traceback": [
      "\u001b[0;31m---------------------------------------------------------------------------\u001b[0m",
      "\u001b[0;31mNameError\u001b[0m                                 Traceback (most recent call last)",
      "\u001b[0;32m/var/folders/gg/_by8trrd76g1v8t9bc50c4jr0000gn/T/ipykernel_44871/1005157009.py\u001b[0m in \u001b[0;36m<module>\u001b[0;34m\u001b[0m\n\u001b[1;32m      1\u001b[0m \u001b[0;32mclass\u001b[0m \u001b[0mDog\u001b[0m\u001b[0;34m:\u001b[0m\u001b[0;34m\u001b[0m\u001b[0;34m\u001b[0m\u001b[0m\n\u001b[1;32m      2\u001b[0m     \u001b[0minfo\u001b[0m \u001b[0;34m=\u001b[0m \u001b[0;34m\"4 legged canine mammal.\"\u001b[0m \u001b[0;31m# <- PRIVATE attribute holds a string\u001b[0m\u001b[0;34m\u001b[0m\u001b[0;34m\u001b[0m\u001b[0m\n\u001b[0;32m----> 3\u001b[0;31m \u001b[0mprint\u001b[0m\u001b[0;34m(\u001b[0m\u001b[0minfo\u001b[0m\u001b[0;34m)\u001b[0m \u001b[0;31m# The print command is outdented from the class where 'info' does not exist\u001b[0m\u001b[0;34m\u001b[0m\u001b[0;34m\u001b[0m\u001b[0m\n\u001b[0m",
      "\u001b[0;31mNameError\u001b[0m: name 'info' is not defined"
     ]
    }
   ],
   "source": [
    "class Dog:\n",
    "    info = \"4 legged canine mammal.\" # <- PRIVATE attribute holds a string\n",
    "print(info) # The print command is outdented from the class where 'info' does not exist"
   ]
  },
  {
   "attachments": {},
   "cell_type": "markdown",
   "metadata": {},
   "source": [
    "The `NameError` has been raised, as `info` does not exist outside the class `Dog`. It is a private attribute of the class.\n",
    "\n",
    "In order to print `info` we need to call the class and then the associated variable.\n",
    "\n",
    "Like this:"
   ]
  },
  {
   "cell_type": "code",
   "execution_count": null,
   "metadata": {},
   "outputs": [
    {
     "name": "stdout",
     "output_type": "stream",
     "text": [
      "4 legged canine mammal.\n"
     ]
    }
   ],
   "source": [
    "print(Dog.info)"
   ]
  },
  {
   "attachments": {},
   "cell_type": "markdown",
   "metadata": {},
   "source": [
    "Another example of a class (`MacBook_Pro`) with an attribute inside it. The attribute is then called outside the class, using the appropriate syntax."
   ]
  },
  {
   "cell_type": "code",
   "execution_count": null,
   "metadata": {},
   "outputs": [
    {
     "name": "stdout",
     "output_type": "stream",
     "text": [
      "  The following are attributes, extracted from the class\n",
      "        The year the laptop model was released: 2019\n",
      "        The material the laptop was made with: Aluminium\n",
      "        The company that made it: Apple\n"
     ]
    }
   ],
   "source": [
    "class MacBook_Pro:\n",
    "    '''\n",
    "    Describes Macbook_Pro with a select few attributes.\n",
    "    '''\n",
    "    year = 2019 # type: int\n",
    "    material = \"Aluminium\" # type: str\n",
    "    company = \"Apple\" # type: str\n",
    "print(f\"\"\"  The following are attributes, extracted from the class\n",
    "        The year the laptop model was released: {MacBook_Pro.year}\n",
    "        The material the laptop was made with: {MacBook_Pro.material}\n",
    "        The company that made it: {MacBook_Pro.company}\"\"\")"
   ]
  },
  {
   "attachments": {},
   "cell_type": "markdown",
   "metadata": {},
   "source": [
    "#### Instances"
   ]
  },
  {
   "attachments": {},
   "cell_type": "markdown",
   "metadata": {},
   "source": [
    "As per the name suggests, instances are objects that are created when the class is called out in a command in the code."
   ]
  },
  {
   "attachments": {},
   "cell_type": "markdown",
   "metadata": {},
   "source": [
    " The term instance and object are interchangeable. The following is how the `Dog` class is called as an instance."
   ]
  },
  {
   "cell_type": "code",
   "execution_count": null,
   "metadata": {},
   "outputs": [
    {
     "data": {
      "text/plain": [
       "<__main__.Dog at 0x7fda2e4bb7f0>"
      ]
     },
     "execution_count": 7,
     "metadata": {},
     "output_type": "execute_result"
    }
   ],
   "source": [
    "Dog() # this is an instance/object of CLASS: Dog"
   ]
  },
  {
   "attachments": {},
   "cell_type": "markdown",
   "metadata": {},
   "source": [
    "Here the `Dog` class was called out.\n",
    "\n",
    "Now, every time the `Dog` function is called out nothing is initialised. To make this class usable, we initialise a function within the class `Dog`, henceforth every time the `Dog` is called, the function along with will get initialised.\n",
    "\n",
    "This function is all also called the `__init__` function. Whenever an object is created from this class, this function is initiated."
   ]
  },
  {
   "cell_type": "code",
   "execution_count": 33,
   "metadata": {},
   "outputs": [
    {
     "name": "stdout",
     "output_type": "stream",
     "text": [
      "ClASS: Dog has been declared\n"
     ]
    }
   ],
   "source": [
    "class Dog:\n",
    "    print(\"ClASS: Dog has been declared\")\n",
    "    def __init__(self): # initialsation function made within the class 'Dog'\n",
    "        print(\"Woof Woof mf\")"
   ]
  },
  {
   "cell_type": "code",
   "execution_count": 34,
   "metadata": {},
   "outputs": [
    {
     "name": "stdout",
     "output_type": "stream",
     "text": [
      "Woof Woof mf\n"
     ]
    },
    {
     "data": {
      "text/plain": [
       "<__main__.Dog at 0x7fda2d19bca0>"
      ]
     },
     "execution_count": 34,
     "metadata": {},
     "output_type": "execute_result"
    }
   ],
   "source": [
    "Dog()"
   ]
  },
  {
   "attachments": {},
   "cell_type": "markdown",
   "metadata": {},
   "source": [
    "Each and every instance (call-out) of the class is unique. They all are individual objects created from one single class `Dog`."
   ]
  },
  {
   "attachments": {},
   "cell_type": "markdown",
   "metadata": {},
   "source": [
    "Variables within the class can be created so that it can be called out when required by an instance. An instance is unique (as mentioned) and by creating a variable in the self function, we can utilise it provide a variable to each unique and individual object/instance."
   ]
  },
  {
   "cell_type": "code",
   "execution_count": 17,
   "metadata": {},
   "outputs": [],
   "source": [
    "import random # importing random to test whether all the objects from a class are unique\n",
    "\n",
    "class Dog:\n",
    "    def __init__(self):\n",
    "        self.testNum = random.randint(1,10)"
   ]
  },
  {
   "cell_type": "code",
   "execution_count": 19,
   "metadata": {},
   "outputs": [
    {
     "name": "stdout",
     "output_type": "stream",
     "text": [
      "First instance/object using the variable 8\n",
      "Second instance/object using the variable 8\n"
     ]
    }
   ],
   "source": [
    "dog1 = Dog() # one instance/object of 'Dog'\n",
    "dog2 = Dog() # another instance/object of 'Dog'\n",
    "\n",
    "print(f\"\"\"First instance/object using the variable {dog1.testNum}\n",
    "Second instance/object using the variable {dog2.testNum}\"\"\")"
   ]
  },
  {
   "attachments": {},
   "cell_type": "markdown",
   "metadata": {},
   "source": [
    "Here, what exactly happened was that there were 2 instances called from `Dog`, `dog1` and `dog2`, these two objects utilised the `__init__` function with the `self` command. It can be seen that each object is unique as the random numbers created by using the `__init__` function is unique."
   ]
  },
  {
   "attachments": {},
   "cell_type": "markdown",
   "metadata": {},
   "source": [
    "*NOTE: `dog1` and `dog2` are unique objects/instances.*"
   ]
  },
  {
   "attachments": {},
   "cell_type": "markdown",
   "metadata": {},
   "source": [
    "In order to create a variable from the class blueprint, the `__init__` function can be modified. A set of empty variables can be established in order for the object to use and fill them up.\n",
    "\n",
    "For example, we have a blueprint `Dog`, from there we can include a set of commands in the `__init__`. It provides functions to provide the facilities for the object to take in the `name` and `breed` of the dog. That attribute of the object (`Dog()` instances) will be unique to the dog itself. I.e., that dog will carry its own value for `name` and `breed`, but it will have the ability due to the function in class `Dog`."
   ]
  },
  {
   "cell_type": "code",
   "execution_count": 28,
   "metadata": {},
   "outputs": [
    {
     "name": "stdout",
     "output_type": "stream",
     "text": [
      "The name of the first dog is Doggie and the breed is The brown kind.\n",
      "Whereas, the name of the second dog is Kutta and the breed is White wala.\n",
      "      \n"
     ]
    }
   ],
   "source": [
    "class Dog: # Class\n",
    "    def __init__(self,name,breed): # The __init__ function holds itself (self) and the name and breed initiation for the variables \n",
    "        self.name = name # initiating the name variable\n",
    "        self.breed = breed # initiating the breed variable\n",
    "         \n",
    "# utilising the variable capacity from the __init__ function:\n",
    "dog_first = Dog('Doggie','The brown kind') # the variables are in order of the the establishment as per the __init__ function\n",
    "dog_second = Dog('Kutta','White wala')     # i.e., the name comes first and then breed\n",
    "\n",
    "print(f\"\"\"The name of the first dog is {dog_first.name} and the breed is {dog_first.breed}.\n",
    "Whereas, the name of the second dog is {dog_second.name} and the breed is {dog_second.breed}.\n",
    "      \"\"\")"
   ]
  },
  {
   "attachments": {},
   "cell_type": "markdown",
   "metadata": {},
   "source": [
    "Here, the class `Dog` contained a `__init__` function which helped create empty variables for `name` and `breed`. Every time a new instance of `Dog` was made, the values for the instance based on the `__init__` function had to be made. They need to be made in that exact order too!\n",
    "\n",
    "In the `__init__` function we have initialised `name` and `breed`, which are both in order `name, breed`. This order has been followed when establishing an object/instance of class `Dog`, namely `dog_first` and `dog_second`."
   ]
  },
  {
   "attachments": {},
   "cell_type": "markdown",
   "metadata": {},
   "source": [
    "#### Methods"
   ]
  },
  {
   "attachments": {},
   "cell_type": "markdown",
   "metadata": {},
   "source": [
    "Simply, a method is function inside a class (`def`). The following shows a class `Square`.\n",
    "\n",
    "Here we have provided an initialisation function with `__init__`, and it holds the main variable for any instance that follows; i.e., `side`.\n",
    "\n",
    "We then use the `side` variable to a method which is named `area` (it's literally a function in a class). In this method the `side` variable is called, and it is used to find the `area` of the square."
   ]
  },
  {
   "cell_type": "code",
   "execution_count": 4,
   "metadata": {},
   "outputs": [
    {
     "name": "stdout",
     "output_type": "stream",
     "text": [
      "the side is 3 and its area is 9\n"
     ]
    }
   ],
   "source": [
    "class Square: # main class\n",
    "    def __init__(self, side): # __init__ function\n",
    "        self.side = side # intitialised \"side\" variable for any instances\n",
    "    def area(self): # the actual method from CLASS: Square to find area of a square\n",
    "        return (self.side **2) # area of a square\n",
    "sqaure_side = Square(3) # value for the length of the side [instance]\n",
    "area1 = Square.area(sqaure_side) # the area of the sqaure [instance of \"def area\"]\n",
    "\n",
    "print(f\"the side is {sqaure_side.side} and its area is {area1}\")"
   ]
  },
  {
   "attachments": {},
   "cell_type": "markdown",
   "metadata": {},
   "source": [
    "Here the `sqauare_side` instance helps declare a value for the length of the side of a said-given square. Whereas, the `area1` instance utilises the `square_side` object's value to find area of the square."
   ]
  },
  {
   "attachments": {},
   "cell_type": "markdown",
   "metadata": {},
   "source": [
    "It is imperative that when a variable is used within a method, it has to be called using the `self.` function, otherwise it will not be recognized. It does not always have to be `self` in particular. We use `self` as it is convention."
   ]
  },
  {
   "attachments": {},
   "cell_type": "markdown",
   "metadata": {},
   "source": [
    "#### Inheritance"
   ]
  },
  {
   "cell_type": "markdown",
   "metadata": {},
   "source": [
    "Consider the following code block:"
   ]
  },
  {
   "cell_type": "code",
   "execution_count": 5,
   "metadata": {},
   "outputs": [],
   "source": [
    "class Phone: # master class\n",
    "    def __init__(self):\n",
    "        print(\"Phone class is created\")\n",
    "\n",
    "class iPhone(Phone): # inherited class from 'master class'\n",
    "    def __init__(self):\n",
    "        super().__init__(self) # activates the parent class\n",
    "        print('Iphone is created')\n",
    "        \n",
    "class iPhone_12pro(iPhone): # inherited class from 'iPhone'\n",
    "    def __init__(self):\n",
    "        super().__init__(self) # activates the parent class\n",
    "        print(\"Iphone 12 Pro is created\")"
   ]
  },
  {
   "cell_type": "markdown",
   "metadata": {},
   "source": [
    "Master Class: Imagine you're making a bunch of different phones in a phone factory. To make this easier, you decide to use a **master blueprint** for all phones. This blueprint is called the `Phone` class. It has some basic instructions for creating a phone.\n",
    "\n",
    "Inherited from Master Class: Now, you want to make a special type of phone that's like a regular phone but with some extra features. Let's call it `iPhone`. To do this, you create a new blueprint called `iPhone` that is based on the `Phone` blueprint. This is called \"inheritance.\"\n",
    "\n",
    "Inherited even further: Great! Now you have regular phones and iPhones. But wait, you want an even fancier phone – the `iPhone_12pro`. It's like an `iPhone`, but with even more special features. So, you create another blueprint, `iPhone_12pro`, based on the `iPhone` blueprint.\n",
    "\n",
    "Here's what happens when you create an `iPhone_12pro`:\n",
    "\n",
    "1. The `iPhone_12pro` blueprint says, \"Hey, I'm based on an `iPhone`.\" So, it goes to the `iPhone` blueprint.\n",
    "\n",
    "2. The `iPhone` blueprint says, \"Hey, I'm based on a `Phone`.\" So, it goes to the `Phone` blueprint.\n",
    "\n",
    "3. The `Phone` blueprint says, \"Alright, let's follow my instructions.\" It prints \"Phone class is created.\"\n",
    "\n",
    "4. Then, the `iPhone` blueprint continues its instructions. It prints \"iPhone is created.\"\n",
    "\n",
    "5. Finally, the `iPhone_12pro` blueprint finishes its instructions. It prints \"iPhone 12 Pro is created.\"\n",
    "\n",
    "This way, you can create different types of phones with shared characteristics, and each new type can add its own special features while reusing the instructions from the parent blueprints."
   ]
  },
  {
   "attachments": {},
   "cell_type": "markdown",
   "metadata": {},
   "source": [
    "### Try and Except"
   ]
  },
  {
   "attachments": {},
   "cell_type": "markdown",
   "metadata": {},
   "source": [
    "*Try&Except* is a debugging tool to pinpoint certain error so that if in any case the said error occurs: it does not crash our program. This is on the basis that we anticipate the code and know what can/should go wrong and request python to tackle it.\n",
    "\n",
    "Python simply tries to fulfil our request and if the request is impossible to fulfil it raises our exception token and moves on. If it would not do that, then the code for absolutely come to a stop there and would not proceed. This is great for debugging.\n",
    "\n",
    "Python is line-by-line executed language and if a previous line is not run, or it faces an error it will absolutely stop there and not do anything further. *Try&Except* helps us not stop due to an error and gives us a warning about an error and moves on."
   ]
  },
  {
   "attachments": {},
   "cell_type": "markdown",
   "metadata": {},
   "source": [
    "The following encapsulates this idea:"
   ]
  },
  {
   "cell_type": "code",
   "execution_count": 9,
   "metadata": {},
   "outputs": [
    {
     "name": "stdout",
     "output_type": "stream",
     "text": [
      "Before Try&Except\n",
      "MATH ERROR: Can't divide with 0! but we roll\n",
      "After the Try&Except\n"
     ]
    }
   ],
   "source": [
    "print(\"Before Try&Except\")\n",
    "\n",
    "try:\n",
    "    2/0 # this should raise an error\n",
    "except:\n",
    "    print(\"MATH ERROR: Can't divide with 0! but we roll\") # this should be the raised error token\n",
    "\n",
    "print(\"After the Try&Except\") # this line should be executed due to Try&Except"
   ]
  },
  {
   "attachments": {},
   "cell_type": "markdown",
   "metadata": {},
   "source": [
    "If *Try&Except* would not be used:"
   ]
  },
  {
   "cell_type": "code",
   "execution_count": 10,
   "metadata": {},
   "outputs": [
    {
     "name": "stdout",
     "output_type": "stream",
     "text": [
      "Before Try&Except\n"
     ]
    },
    {
     "ename": "ZeroDivisionError",
     "evalue": "division by zero",
     "output_type": "error",
     "traceback": [
      "\u001b[0;31m---------------------------------------------------------------------------\u001b[0m",
      "\u001b[0;31mZeroDivisionError\u001b[0m                         Traceback (most recent call last)",
      "\u001b[0;32m/var/folders/gg/_by8trrd76g1v8t9bc50c4jr0000gn/T/ipykernel_78778/2008730620.py\u001b[0m in \u001b[0;36m<module>\u001b[0;34m\u001b[0m\n\u001b[1;32m      1\u001b[0m \u001b[0mprint\u001b[0m\u001b[0;34m(\u001b[0m\u001b[0;34m\"Before Try&Except\"\u001b[0m\u001b[0;34m)\u001b[0m\u001b[0;34m\u001b[0m\u001b[0;34m\u001b[0m\u001b[0m\n\u001b[1;32m      2\u001b[0m \u001b[0;34m\u001b[0m\u001b[0m\n\u001b[0;32m----> 3\u001b[0;31m \u001b[0;36m2\u001b[0m\u001b[0;34m/\u001b[0m\u001b[0;36m0\u001b[0m\u001b[0;34m\u001b[0m\u001b[0;34m\u001b[0m\u001b[0m\n\u001b[0m\u001b[1;32m      4\u001b[0m \u001b[0;34m\u001b[0m\u001b[0m\n\u001b[1;32m      5\u001b[0m \u001b[0mprint\u001b[0m\u001b[0;34m(\u001b[0m\u001b[0;34m\"After the Try&Except\"\u001b[0m\u001b[0;34m)\u001b[0m\u001b[0;34m\u001b[0m\u001b[0;34m\u001b[0m\u001b[0m\n",
      "\u001b[0;31mZeroDivisionError\u001b[0m: division by zero"
     ]
    }
   ],
   "source": [
    "print(\"Before Try&Except\")\n",
    "\n",
    "2/0 # this will raise a ZeroDivisionError and nothing here onwards will be executed\n",
    "\n",
    "print(\"After the Try&Except\")"
   ]
  },
  {
   "attachments": {},
   "cell_type": "markdown",
   "metadata": {},
   "source": [
    "The compiler has raised a `ZeroDivisionError: division by zero` reply in the console. This simply due to the fact that mathematically nothing can be divided by 0. But the real point here is to notice how we are stopped/stuck at the `ZeroDivisionError` and can't move forward to print the statement in line `5`."
   ]
  },
  {
   "attachments": {},
   "cell_type": "markdown",
   "metadata": {},
   "source": [
    "We can make our code even more intuitive and reciprocate to our errors by the type they are. For example, we can raise a custom `NameError` when a non-declared variable is called."
   ]
  },
  {
   "cell_type": "code",
   "execution_count": 45,
   "metadata": {},
   "outputs": [
    {
     "name": "stdout",
     "output_type": "stream",
     "text": [
      "This was a NameError as an undefined variable has been called!\n"
     ]
    }
   ],
   "source": [
    "try:\n",
    "    print(test) # 'test' is not defined\n",
    "except NameError:\n",
    "    print(\"This was a NameError as an undefined variable has been called!\") # hence, this particular error is raised"
   ]
  },
  {
   "attachments": {},
   "cell_type": "markdown",
   "metadata": {},
   "source": [
    "So now our `except` statement is even more detailed and can identify the type of error that has occurred and raise the particular `except` message. This `NameError` is issued only when a `NameError` takes place, and not when any other general error takes place."
   ]
  },
  {
   "attachments": {},
   "cell_type": "markdown",
   "metadata": {},
   "source": [
    "We can also customise our types of error for project development. These types of errors are bespoke and are raised only when those particular errors are raised.\n",
    "\n",
    "For example, let's say we are building a calculator and our calculator cannot take string as input data. We need to raise an error that informs the user that string is impossible to be input into the calculator.\n",
    "\n",
    "There are steps to this, and they are as follows."
   ]
  },
  {
   "attachments": {},
   "cell_type": "markdown",
   "metadata": {},
   "source": [
    "1. #####  Create a verification class `InputError`"
   ]
  },
  {
   "cell_type": "code",
   "execution_count": 32,
   "metadata": {},
   "outputs": [],
   "source": [
    "class InputError(Exception): # this empty error class is inherited from the 'Exception' function\n",
    "    pass"
   ]
  },
  {
   "attachments": {},
   "cell_type": "markdown",
   "metadata": {},
   "source": [
    "`InputError` is our special/unique error token. "
   ]
  },
  {
   "attachments": {},
   "cell_type": "markdown",
   "metadata": {},
   "source": [
    "2. ##### Create a function to identify and activate the `InputError` (this could be any function you wish, it just needs to make use of the *Try&Except* feature for now)"
   ]
  },
  {
   "attachments": {},
   "cell_type": "markdown",
   "metadata": {},
   "source": [
    "The following function `upper_convertor`, takes a string input and converts all its characters to upper-case. If the user has not supplied any input, i.e., has given an empty string as input: the custom error will be raised"
   ]
  },
  {
   "cell_type": "code",
   "execution_count": 2,
   "metadata": {},
   "outputs": [],
   "source": [
    "def upper_convertor(input: str):\n",
    "    \"\"\"\n",
    "    Takes in a string input and converts all of the string's characters into upper-case characters\n",
    "\n",
    "    Args:\n",
    "        input (str): A string input for the convertor\n",
    "    \n",
    "    Returns:\n",
    "        str: The converted output from lower to uppercase\n",
    "    \"\"\"\n",
    "    if len(input) <= 0: #checks if input is empty by seeing its size: if size == 0 then 'empty'\n",
    "        raise InputError(\"Empty input!\") # raises the custom error\n",
    "    return input.upper()"
   ]
  },
  {
   "attachments": {},
   "cell_type": "markdown",
   "metadata": {},
   "source": [
    "3. ##### Testing the error"
   ]
  },
  {
   "cell_type": "code",
   "execution_count": 44,
   "metadata": {},
   "outputs": [
    {
     "ename": "InputError",
     "evalue": "Empty input!",
     "output_type": "error",
     "traceback": [
      "\u001b[0;31m---------------------------------------------------------------------------\u001b[0m",
      "\u001b[0;31mInputError\u001b[0m                                Traceback (most recent call last)",
      "\u001b[0;32m/var/folders/gg/_by8trrd76g1v8t9bc50c4jr0000gn/T/ipykernel_78778/1136371303.py\u001b[0m in \u001b[0;36m<module>\u001b[0;34m\u001b[0m\n\u001b[0;32m----> 1\u001b[0;31m \u001b[0mprint\u001b[0m\u001b[0;34m(\u001b[0m\u001b[0mupper_convertor\u001b[0m\u001b[0;34m(\u001b[0m\u001b[0;34m''\u001b[0m\u001b[0;34m)\u001b[0m\u001b[0;34m)\u001b[0m\u001b[0;34m\u001b[0m\u001b[0;34m\u001b[0m\u001b[0m\n\u001b[0m",
      "\u001b[0;32m/var/folders/gg/_by8trrd76g1v8t9bc50c4jr0000gn/T/ipykernel_78778/3877400691.py\u001b[0m in \u001b[0;36mupper_convertor\u001b[0;34m(input)\u001b[0m\n\u001b[1;32m      1\u001b[0m \u001b[0;32mdef\u001b[0m \u001b[0mupper_convertor\u001b[0m\u001b[0;34m(\u001b[0m\u001b[0minput\u001b[0m\u001b[0;34m)\u001b[0m\u001b[0;34m:\u001b[0m\u001b[0;34m\u001b[0m\u001b[0;34m\u001b[0m\u001b[0m\n\u001b[1;32m      2\u001b[0m     \u001b[0;32mif\u001b[0m \u001b[0mlen\u001b[0m\u001b[0;34m(\u001b[0m\u001b[0minput\u001b[0m\u001b[0;34m)\u001b[0m \u001b[0;34m<=\u001b[0m \u001b[0;36m0\u001b[0m\u001b[0;34m:\u001b[0m\u001b[0;34m\u001b[0m\u001b[0;34m\u001b[0m\u001b[0m\n\u001b[0;32m----> 3\u001b[0;31m         \u001b[0;32mraise\u001b[0m \u001b[0mInputError\u001b[0m\u001b[0;34m(\u001b[0m\u001b[0;34m\"Empty input!\"\u001b[0m\u001b[0;34m)\u001b[0m\u001b[0;34m\u001b[0m\u001b[0;34m\u001b[0m\u001b[0m\n\u001b[0m\u001b[1;32m      4\u001b[0m     \u001b[0;32mreturn\u001b[0m \u001b[0minput\u001b[0m\u001b[0;34m.\u001b[0m\u001b[0mupper\u001b[0m\u001b[0;34m(\u001b[0m\u001b[0;34m)\u001b[0m\u001b[0;34m\u001b[0m\u001b[0;34m\u001b[0m\u001b[0m\n",
      "\u001b[0;31mInputError\u001b[0m: Empty input!"
     ]
    }
   ],
   "source": [
    "print(upper_convertor('')) # tests the custom error by giving it an empty string"
   ]
  },
  {
   "attachments": {},
   "cell_type": "markdown",
   "metadata": {},
   "source": [
    "The error raised is our own custom `InputError` in red."
   ]
  },
  {
   "attachments": {},
   "cell_type": "markdown",
   "metadata": {},
   "source": [
    "The following is a run with compatible input."
   ]
  },
  {
   "cell_type": "code",
   "execution_count": 3,
   "metadata": {},
   "outputs": [
    {
     "name": "stdout",
     "output_type": "stream",
     "text": [
      "ABCD\n"
     ]
    }
   ],
   "source": [
    "print(upper_convertor(\"abcd\"))"
   ]
  },
  {
   "attachments": {},
   "cell_type": "markdown",
   "metadata": {},
   "source": [
    "## Part II: Project - *Weather API*"
   ]
  },
  {
   "attachments": {},
   "cell_type": "markdown",
   "metadata": {},
   "source": [
    "Here we are going to build a Weather Application using an API from [OpenWeather API](https://openweathermap.org/api). \n",
    "\n",
    "The API key is: `70ff51bbc74bdcd001ca0dce3739b09f`\n"
   ]
  },
  {
   "attachments": {},
   "cell_type": "markdown",
   "metadata": {},
   "source": [
    "Using the latitude and longitude value for a location, we can extract the weather data for that place. The output data is a *JSON* file. A *JSON* is a data output type for API's. It essentially is a huge `dictionary`."
   ]
  },
  {
   "attachments": {},
   "cell_type": "markdown",
   "metadata": {},
   "source": [
    "From the API documentation we can get a call function which is: https://api.openweathermap.org/data/2.5/weather?lat={lat}&lon={lon}&appid={API_key}. This API function can have the latitude and longitude with the API key to get information for any given location. For example, the current weather for Dubai, UAE can we called by giving 25.2048° N, 55.2708° E for `lat` and `long`.\n",
    "\n",
    "The following is the output:\n",
    "\n",
    "`{\"coord\":{\"lon\":55.2708,\"lat\":25.2048},\"weather\":[{\"id\":800,\"main\":\"Clear\",\"description\":\"clear sky\",\"icon\":\"01n\"}],\"base\":\"stations\",\"main\":{\"temp\":307.17,\"feels_like\":314.17,\"temp_min\":303.36,\"temp_max\":307.33,\"pressure\":996,\"humidity\":70},\"visibility\":10000,\"wind\":{\"speed\":3.09,\"deg\":150},\"clouds\":{\"all\":0},\"dt\":1687816994,\"sys\":{\"type\":1,\"id\":7537,\"country\":\"AE\",\"sunrise\":1687829448,\"sunset\":1687878763},\"timezone\":14400,\"id\":290845,\"name\":\"Ash Shindaghah\",\"cod\":200}`"
   ]
  },
  {
   "attachments": {},
   "cell_type": "markdown",
   "metadata": {},
   "source": [
    "### `Request` library/package"
   ]
  },
  {
   "attachments": {},
   "cell_type": "markdown",
   "metadata": {},
   "source": [
    "We call for the `requests-2.31.0` package/library in python so that we can call and mess around with our *JSON* file from the API's web response."
   ]
  },
  {
   "cell_type": "code",
   "execution_count": 2,
   "metadata": {},
   "outputs": [],
   "source": [
    "import requests"
   ]
  },
  {
   "attachments": {},
   "cell_type": "markdown",
   "metadata": {},
   "source": [
    "In the following code block I have the latitude and longitude value for Dubai, UAE. Along with that I have my unique API key."
   ]
  },
  {
   "cell_type": "code",
   "execution_count": 24,
   "metadata": {},
   "outputs": [],
   "source": [
    "lat_ = 25.2048\n",
    "lon_ = 55.2708\n",
    "key = '70ff51bbc74bdcd001ca0dce3739b09f'"
   ]
  },
  {
   "attachments": {},
   "cell_type": "markdown",
   "metadata": {},
   "source": [
    "The following code block uses the `requests` library to get the API response and manipulate to use in development. A *Try&Except* has been used to make sure that if the user is not connected to the internet, an error token explicitly addressing that is raised."
   ]
  },
  {
   "cell_type": "code",
   "execution_count": 25,
   "metadata": {},
   "outputs": [
    {
     "name": "stdout",
     "output_type": "stream",
     "text": [
      "{'coord': {'lon': 55.2708, 'lat': 25.2049}, 'weather': [{'id': 800, 'main': 'Clear', 'description': 'clear sky', 'icon': '01n'}], 'base': 'stations', 'main': {'temp': 307.17, 'feels_like': 314.17, 'temp_min': 303.36, 'temp_max': 307.33, 'pressure': 996, 'humidity': 66}, 'visibility': 10000, 'wind': {'speed': 4.12, 'deg': 110}, 'clouds': {'all': 0}, 'dt': 1687822754, 'sys': {'type': 1, 'id': 7537, 'country': 'AE', 'sunrise': 1687829448, 'sunset': 1687878763}, 'timezone': 14400, 'id': 290845, 'name': 'Ash Shindaghah', 'cod': 200}\n"
     ]
    }
   ],
   "source": [
    "try:\n",
    "    response = requests.get(f\"https://api.openweathermap.org/data/2.5/weather?lat={lat_}&lon={lon_}8&appid={key}\") # API request\n",
    "    print(response.json()) # Print the request\n",
    "except ConnectionError as e:\n",
    "    print(\"No internet connection!\") # raise token if connection error occurs"
   ]
  },
  {
   "attachments": {},
   "cell_type": "markdown",
   "metadata": {},
   "source": [
    "### Working with the *JSON* data"
   ]
  },
  {
   "attachments": {},
   "cell_type": "markdown",
   "metadata": {},
   "source": [
    "In order to work with the API and its *JSON* response, a variable `response_json` has been created. This variable holds the entire *JSON* response from the API and can be manipulated to provide a more concise format of the output."
   ]
  },
  {
   "cell_type": "code",
   "execution_count": 26,
   "metadata": {},
   "outputs": [],
   "source": [
    "response_json = response.json() # assigns a variable through the JSON file with API response"
   ]
  },
  {
   "cell_type": "code",
   "execution_count": 27,
   "metadata": {},
   "outputs": [
    {
     "data": {
      "text/plain": [
       "{'coord': {'lon': 55.2708, 'lat': 25.2049},\n",
       " 'weather': [{'id': 800,\n",
       "   'main': 'Clear',\n",
       "   'description': 'clear sky',\n",
       "   'icon': '01n'}],\n",
       " 'base': 'stations',\n",
       " 'main': {'temp': 307.17,\n",
       "  'feels_like': 314.17,\n",
       "  'temp_min': 303.36,\n",
       "  'temp_max': 307.33,\n",
       "  'pressure': 996,\n",
       "  'humidity': 66},\n",
       " 'visibility': 10000,\n",
       " 'wind': {'speed': 4.12, 'deg': 110},\n",
       " 'clouds': {'all': 0},\n",
       " 'dt': 1687822754,\n",
       " 'sys': {'type': 1,\n",
       "  'id': 7537,\n",
       "  'country': 'AE',\n",
       "  'sunrise': 1687829448,\n",
       "  'sunset': 1687878763},\n",
       " 'timezone': 14400,\n",
       " 'id': 290845,\n",
       " 'name': 'Ash Shindaghah',\n",
       " 'cod': 200}"
      ]
     },
     "execution_count": 27,
     "metadata": {},
     "output_type": "execute_result"
    }
   ],
   "source": [
    "response_json"
   ]
  },
  {
   "attachments": {},
   "cell_type": "markdown",
   "metadata": {},
   "source": [
    "To pick particular bit of information from the *JSON* file (instead of the whole nested dictionary), we look for the key and the main key for that particular information."
   ]
  },
  {
   "attachments": {},
   "cell_type": "markdown",
   "metadata": {},
   "source": [
    "For example, to access the `main` climate information from the master nested dictionary: we need to call `main` from the master dictionary like so. "
   ]
  },
  {
   "cell_type": "code",
   "execution_count": 28,
   "metadata": {},
   "outputs": [
    {
     "data": {
      "text/plain": [
       "{'temp': 307.17,\n",
       " 'feels_like': 314.17,\n",
       " 'temp_min': 303.36,\n",
       " 'temp_max': 307.33,\n",
       " 'pressure': 996,\n",
       " 'humidity': 66}"
      ]
     },
     "execution_count": 28,
     "metadata": {},
     "output_type": "execute_result"
    }
   ],
   "source": [
    "response_json['main']"
   ]
  },
  {
   "attachments": {},
   "cell_type": "markdown",
   "metadata": {},
   "source": [
    "To get further particular with the nested dictionary, we simply add the desired key after the respective master key. In order to call the temperature we use the `temp` key from `main`."
   ]
  },
  {
   "cell_type": "code",
   "execution_count": 29,
   "metadata": {},
   "outputs": [
    {
     "data": {
      "text/plain": [
       "307.17"
      ]
     },
     "execution_count": 29,
     "metadata": {},
     "output_type": "execute_result"
    }
   ],
   "source": [
    "response_json['main']['temp']"
   ]
  },
  {
   "attachments": {},
   "cell_type": "markdown",
   "metadata": {},
   "source": [
    "We see how this value for the temperature is absurd. That is because the API uses `standard` meteorological units. We can change this by modifying the API call function URL. \n",
    "\n",
    "As per the documentation:\n",
    "*Units of measurement: Standard, metric and imperial units are available. If you do not use the units' parameter, standard units will be applied by default.*\n",
    "\n",
    "So we can add `metric` as a unit in the URL. This makes the new URL the following:\n",
    "\n",
    "https://api.openweathermap.org/data/2.5/weather?metric&lat={lat}&lon={lon}&appid={API_key}\n",
    "\n",
    "NOTE: The separator here is `<b>&</b>`, and it is boolean for `and`, i.e., the API calls for `unit` & `lat` & `lon` etc."
   ]
  },
  {
   "cell_type": "code",
   "execution_count": 68,
   "metadata": {},
   "outputs": [],
   "source": [
    "lat_ = 25.2048\n",
    "lon_ = 55.2708\n",
    "Place = 'Dubai, UAE'\n",
    "key = '70ff51bbc74bdcd001ca0dce3739b09f'\n",
    "response = requests.get(f'https://api.openweathermap.org/data/2.5/weather?units=metric&lat={lat_}&lon={lon_}&appid={key}')"
   ]
  },
  {
   "attachments": {},
   "cell_type": "markdown",
   "metadata": {},
   "source": [
    "Now if we get the temperature, the units should be in metric system."
   ]
  },
  {
   "cell_type": "code",
   "execution_count": 69,
   "metadata": {},
   "outputs": [
    {
     "data": {
      "text/plain": [
       "{'coord': {'lon': 55.2708, 'lat': 25.2048},\n",
       " 'weather': [{'id': 800,\n",
       "   'main': 'Clear',\n",
       "   'description': 'clear sky',\n",
       "   'icon': '01d'}],\n",
       " 'base': 'stations',\n",
       " 'main': {'temp': 38.27,\n",
       "  'feels_like': 45.27,\n",
       "  'temp_min': 37.21,\n",
       "  'temp_max': 41.18,\n",
       "  'pressure': 995,\n",
       "  'humidity': 60},\n",
       " 'visibility': 7000,\n",
       " 'wind': {'speed': 7.2, 'deg': 320},\n",
       " 'clouds': {'all': 1},\n",
       " 'dt': 1687876638,\n",
       " 'sys': {'type': 1,\n",
       "  'id': 7537,\n",
       "  'country': 'AE',\n",
       "  'sunrise': 1687829448,\n",
       "  'sunset': 1687878763},\n",
       " 'timezone': 14400,\n",
       " 'id': 290845,\n",
       " 'name': 'Ash Shindaghah',\n",
       " 'cod': 200}"
      ]
     },
     "execution_count": 69,
     "metadata": {},
     "output_type": "execute_result"
    }
   ],
   "source": [
    "response_json_new = response.json()\n",
    "response_json_new"
   ]
  },
  {
   "cell_type": "code",
   "execution_count": 70,
   "metadata": {},
   "outputs": [
    {
     "data": {
      "text/plain": [
       "38.27"
      ]
     },
     "execution_count": 70,
     "metadata": {},
     "output_type": "execute_result"
    }
   ],
   "source": [
    "response_json_new['main']['temp']"
   ]
  },
  {
   "attachments": {},
   "cell_type": "markdown",
   "metadata": {},
   "source": [
    "We can assign these API responses to different kinds of apt variables, this way can utilise the *JSON* data with those variables."
   ]
  },
  {
   "cell_type": "code",
   "execution_count": 71,
   "metadata": {},
   "outputs": [],
   "source": [
    "current_temp = response_json_new['main']['temp']\n",
    "temp_min = response_json_new['main']['temp_min']\n",
    "temp_max = response_json_new['main']['temp_max']"
   ]
  },
  {
   "attachments": {},
   "cell_type": "markdown",
   "metadata": {},
   "source": [
    "For example, we can use the variables with API data as:"
   ]
  },
  {
   "cell_type": "code",
   "execution_count": 74,
   "metadata": {},
   "outputs": [
    {
     "name": "stdout",
     "output_type": "stream",
     "text": [
      "The current temp at 25.2048º N 55.2708º E Dubai, UAE is 38.27º C. The low will be 37.21º C, while the high will be 41.18º C.\n"
     ]
    }
   ],
   "source": [
    "print(f'The current temp at {lat_}º N {lon_}º E {Place} is {current_temp}º C. The low will be {temp_min}º C, while the high will be {temp_max}º C.')"
   ]
  },
  {
   "attachments": {},
   "cell_type": "markdown",
   "metadata": {},
   "source": [
    "### Creating the final modular system to use API for data presentation"
   ]
  },
  {
   "attachments": {},
   "cell_type": "markdown",
   "metadata": {},
   "source": [
    "We instantiate a class called `City` which hold all the methods/functions to interact with the user and the API. It can use that information to present the data for any given set of co-ordinates (latitudes and longitudes)."
   ]
  },
  {
   "cell_type": "code",
   "execution_count": 125,
   "metadata": {},
   "outputs": [],
   "source": [
    "class City:\n",
    "\n",
    "    def __init__(self, Place, lat, lon,units='metric'): # __init__ to initiate variables\n",
    "        self.Place = str(Place)     # as the parameter suggests: Place name variable for the class (str)\n",
    "        self.lat = float(lat)       # as the parameter suggests: latidtude variable for the class (float)\n",
    "        self.lon = float(lon)       # as the parameter suggests: longitude variable for the class (float)\n",
    "        self.units = str(units)     # as the parameter suggests: temp unit variable for the class (str)\n",
    "        self.get_json()  # external function initiated\n",
    "\n",
    "    def get_json(self):\n",
    "        \"\"\"\n",
    "        Takes in the response from the OpenWeather API and stores it in a variable called `response_API`\n",
    "        Args:\n",
    "            self: initialiser\n",
    "            response_API: (JSON) API's response\n",
    "            response_city: (JSON) Response data stored into variable for use\n",
    "        Returns: \n",
    "            current_temp: (JSON) Current temperature\n",
    "            temp_min: (JSON) Minimum Temperature\n",
    "            temp_max: (JSON) Maximum Temperature\n",
    "        \"\"\"\n",
    "        try: # tries to call for API response \n",
    "            response_API = requests.get(f'https://api.openweathermap.org/data/2.5/weather?units={self.units}&lat={self.lat}&lon={self.lon}&appid=70ff51bbc74bdcd001ca0dce3739b09f')\n",
    "        except ConnectionError as e: # if there is a connection error then it raises that token\n",
    "             print(\"No internet connection!\")\n",
    "\n",
    "        self.response_city = response_API.json() # stores the response in an class-local variable\n",
    "\n",
    "        self.current_temp = self.response_city['main']['temp'] # stores current temperature\n",
    "        self.temp_min = self.response_city['main']['temp_min'] # stores low temperature\n",
    "        self.temp_max = self.response_city['main']['temp_max'] # stores high temperature\n",
    "\n",
    "    def get_weather(self): \n",
    "        \"\"\"\n",
    "        Takes in the response from the user on their requested location with desired unit\n",
    "        Args:\n",
    "            self: initialiser\n",
    "            self.: all __init__ variables declared in __init__ function\n",
    "            units_symbol: default celsuis decleration\n",
    "        Returns: \n",
    "            f-string (str): the requested weather indicators for the location requested in desired unit\n",
    "        \"\"\"\n",
    "        units_symbol = \"C\" # default unit of temperature as per the __init__ function\n",
    "        if self.units == \"imperial\": # if statement when farenheit is requested \n",
    "            units_symbol = \"F\" # farenheit symbol\n",
    "        print(f'''The current temp in {self.Place} (co-ords: {self.lat}º, {self.lon}º) is: {self.current_temp}º {units_symbol}.\n",
    "The low will be {self.temp_min}º {units_symbol}, while the high will be {self.temp_max}º {units_symbol}.''') # the final ouput f-string with all requested information"
   ]
  },
  {
   "attachments": {},
   "cell_type": "markdown",
   "metadata": {},
   "source": [
    "<b>*It is essential that the prompt information to get the weather is in exact order as the `__init__` function, as the compiler reads by corresponding the prompt to the function.*</b>"
   ]
  },
  {
   "attachments": {},
   "cell_type": "markdown",
   "metadata": {},
   "source": [
    "Example with London, UK:"
   ]
  },
  {
   "cell_type": "code",
   "execution_count": 118,
   "metadata": {},
   "outputs": [
    {
     "name": "stdout",
     "output_type": "stream",
     "text": [
      "The current temp in London (co-ords: 51.5072º, 0.1276º) is: 19.38º C. \n",
      "The low will be 17.53º C, while the high will be 20.15º C.\n"
     ]
    }
   ],
   "source": [
    "london_weather = City('London',51.5072,0.1276)\n",
    "london_weather.get_weather()"
   ]
  },
  {
   "attachments": {},
   "cell_type": "markdown",
   "metadata": {},
   "source": [
    "Example with New Delhi, India:"
   ]
  },
  {
   "cell_type": "code",
   "execution_count": 119,
   "metadata": {},
   "outputs": [
    {
     "name": "stdout",
     "output_type": "stream",
     "text": [
      "The current temp in New Delhi (co-ords: 28.6448º, 77.216721º) is: 28.07º C. \n",
      "The low will be 28.07º C, while the high will be 28.07º C.\n"
     ]
    }
   ],
   "source": [
    "NewDelhi = City('New Delhi',28.644800,77.216721)\n",
    "NewDelhi.get_weather()"
   ]
  },
  {
   "cell_type": "code",
   "execution_count": 127,
   "metadata": {},
   "outputs": [
    {
     "name": "stdout",
     "output_type": "stream",
     "text": [
      "The current temp in New York (co-ords: 40.73061º, -73.935242º) is: 73.26º F.\n",
      "The low will be 68.29º F, while the high will be 77.36º F.\n"
     ]
    }
   ],
   "source": [
    "NewYork = City('New York', 40.730610,-73.935242,units='imperial')\n",
    "NewYork.get_weather()"
   ]
  },
  {
   "attachments": {},
   "cell_type": "markdown",
   "metadata": {},
   "source": []
  },
  {
   "attachments": {},
   "cell_type": "markdown",
   "metadata": {},
   "source": [
    "## Part III: Functional Programming Concepts"
   ]
  },
  {
   "attachments": {},
   "cell_type": "markdown",
   "metadata": {},
   "source": [
    "### Advanced comparisons and `If` statements"
   ]
  },
  {
   "attachments": {},
   "cell_type": "markdown",
   "metadata": {},
   "source": [
    "When comparing multiple parameters to assess a given condition, using boolean algebra helps significantly. It uses concepts of multi-variate/bi-variate parameter comparison on a binary level. A given `if` statement can be tuned to look out for pairs/groups that satisfy (or dissatisfy) the boolean conditions such as `and`, `or`, `nor`, etc.\n",
    "\n",
    "This attribute helps look out for code that needs to be executed only when a particular set of criteria has been met."
   ]
  },
  {
   "attachments": {},
   "cell_type": "markdown",
   "metadata": {},
   "source": [
    "For example, if a company is hiring new employees it will look for certain qualifications or a set of qualifications. Those qualifications can utilise a combination or a one-or-other system. \n",
    "\n",
    "<b>Condition statement</b>: Let us consider that an applicant will get hired if they have an undergraduate degree *or* if they have a valid diploma. Whilst possessing one-or-the-other, they <b>must</b> have scored 65 or above in their school. This grade is meant to be an aggregate value."
   ]
  },
  {
   "cell_type": "code",
   "execution_count": 15,
   "metadata": {},
   "outputs": [
    {
     "name": "stdout",
     "output_type": "stream",
     "text": [
      "You are hired!\n"
     ]
    }
   ],
   "source": [
    "UnderGrad = True\n",
    "Diploma = False\n",
    "SchoolGrades_agg = 64\n",
    "LetterOfRec = True\n",
    "\n",
    "if (UnderGrad or Diploma) and SchoolGrades_agg >= 65: # checks if person has UnderGrad or Diploma, and 65 in school grades\n",
    "    print(\"You are hired!\") # yes they do\n",
    "elif LetterOfRec: # read as 'else-if' \n",
    "    print(\"You are hired!\") # the don't match one of the criteria but they have an LOR so it works\n",
    "else:\n",
    "    print('You are not hired.') # none of the conditions are met"
   ]
  },
  {
   "attachments": {},
   "cell_type": "markdown",
   "metadata": {},
   "source": [
    "Some boolean functions can be simplified by using an equally (if not more) effective notation.\n",
    "\n",
    "Here's a table of the equivalent operators in both formats:\n",
    "<center>\n",
    "\n",
    "|  Boolean |  Python |\n",
    "|:--------:|:-------:|\n",
    "|   `and`  |   `&`   |\n",
    "|   `or`   |   `\\|`  |\n",
    "|   `not`  |   `~`   |\n",
    "|   `xor`  |   `^`   |\n",
    "\n",
    "</center>"
   ]
  },
  {
   "cell_type": "code",
   "execution_count": 1,
   "metadata": {},
   "outputs": [
    {
     "name": "stdout",
     "output_type": "stream",
     "text": [
      "You are hired!\n"
     ]
    }
   ],
   "source": [
    "UnderGrad = True\n",
    "Diploma = False\n",
    "SchoolGrades_agg = 64\n",
    "LetterOfRec = True\n",
    "\n",
    "if (UnderGrad | Diploma) & SchoolGrades_agg >= 65: # checks if person has UnderGrad or Diploma, and 65 or more in school grades\n",
    "    print(\"You are hired!\") # yes they do\n",
    "elif LetterOfRec: # read as 'else-if'\n",
    "    print(\"You are hired!\") # they don't match any of the criteria but they have an LOR so it works\n",
    "else:\n",
    "    print('You are not hired.') # none of the conditions are met"
   ]
  },
  {
   "attachments": {},
   "cell_type": "markdown",
   "metadata": {},
   "source": [
    "### Switch (`match`) Statements"
   ]
  },
  {
   "attachments": {},
   "cell_type": "markdown",
   "metadata": {},
   "source": [
    "As the name suggests this function switches/matches one data unit with another. This is referred as a `switch` statement in the programming industry and this can be used to match a given data entry with another. For example, in the code snippet below, the user's input numbers are *switched* with a word-based representation of it. \n",
    "\n",
    "Each number has its curated case, and that case helps match/switch the data entries.\n",
    "\n",
    "It is important to note that the user can only input numbers between 1 and 5. If the input is out of the range then it implies then the `case _` keyword helps raise a `exception` token."
   ]
  },
  {
   "cell_type": "code",
   "execution_count": 5,
   "metadata": {},
   "outputs": [
    {
     "name": "stdout",
     "output_type": "stream",
     "text": [
      "invalid response\n"
     ]
    }
   ],
   "source": [
    "number = input(\"Enter number between 1 and 5: \") # user input is stored in number \n",
    "\n",
    "match number: # switch statement\n",
    "    case 1: # SYNTAX: \"case <data entry>:\"\n",
    "        print('One') # SYNTAX: \"print(<corresponding data entry>)\"\n",
    "    case 2:\n",
    "        print('Two')\n",
    "    case 3:\n",
    "        print('Three')\n",
    "    case 4:\n",
    "        print('Four')\n",
    "    case 5:\n",
    "        print('Five')\n",
    "    case _: # unknown response\n",
    "        print('invalid response')"
   ]
  },
  {
   "attachments": {},
   "cell_type": "markdown",
   "metadata": {},
   "source": [
    "### Lambda (`lambda`)"
   ]
  },
  {
   "attachments": {},
   "cell_type": "markdown",
   "metadata": {},
   "source": [
    "<b>*This is simply a one-line function for functional programming concepts to utilise. It does what `def()` would do, except in one line for the functional programming logic.*</b>"
   ]
  },
  {
   "attachments": {},
   "cell_type": "markdown",
   "metadata": {},
   "source": [
    "### Maps"
   ]
  },
  {
   "attachments": {},
   "cell_type": "markdown",
   "metadata": {},
   "source": [
    "Maps help reduce lines of code and makes the programming logic more efficient. It utilises a `lambda` initiator to create a sub-function which uses standard python methodologies within."
   ]
  },
  {
   "cell_type": "code",
   "execution_count": 7,
   "metadata": {},
   "outputs": [],
   "source": [
    "class Student:\n",
    "    \"\"\"\n",
    "    DocString:\n",
    "    This is a class for students with their names and scores in different subjects/courses of study.\n",
    "    \"\"\"\n",
    "    def __init__ (self, name, score):\n",
    "        \"\"\"\n",
    "        DocString:\n",
    "        Initializes the student object by setting its attributes to given values or default ones if not provided.\n",
    "        Args:\n",
    "            self: initialisor \n",
    "            name: str \n",
    "            score: float\n",
    "        returns: null\n",
    "        \"\"\"\n",
    "        self.name = name\n",
    "        self.score = score\n",
    "\n",
    "students = [Student(\"Joe\", 0.46), Student(\"Amy\", 0.72), Student(\"Mark\", 0.88), Student(\"Zach\", 0.75), Student(\"Jane\", 0.84), Student(\"Sarah\", 0.63)] # score data as a list"
   ]
  },
  {
   "cell_type": "code",
   "execution_count": 11,
   "metadata": {},
   "outputs": [
    {
     "name": "stdout",
     "output_type": "stream",
     "text": [
      "<class 'float'>\n",
      "<class 'float'>\n",
      "<class 'float'>\n",
      "<class 'float'>\n",
      "<class 'float'>\n",
      "<class 'float'>\n"
     ]
    }
   ],
   "source": [
    "for student in students:\n",
    "    print(type(student.score))"
   ]
  },
  {
   "cell_type": "code",
   "execution_count": 8,
   "metadata": {},
   "outputs": [
    {
     "data": {
      "text/plain": [
       "['Joe Failed',\n",
       " 'Amy Passed',\n",
       " 'Mark Passed',\n",
       " 'Zach Passed',\n",
       " 'Jane Passed',\n",
       " 'Sarah Failed']"
      ]
     },
     "execution_count": 8,
     "metadata": {},
     "output_type": "execute_result"
    }
   ],
   "source": [
    "map_results = list(map(lambda student: f\"{student.name} Passed\" if student.score >= 0.7 else f\"{student.name} Failed\", students)) # map with lambda and if-else statement\n",
    "map_results"
   ]
  },
  {
   "cell_type": "code",
   "execution_count": 9,
   "metadata": {},
   "outputs": [
    {
     "name": "stdout",
     "output_type": "stream",
     "text": [
      "[2, 4, 6, 8, 10]\n"
     ]
    }
   ],
   "source": [
    "numbers = [1,2,3,4,5]\n",
    "\n",
    "print(list(map(lambda number: number * 2, numbers)))"
   ]
  },
  {
   "attachments": {},
   "cell_type": "markdown",
   "metadata": {},
   "source": [
    "### Filter"
   ]
  },
  {
   "attachments": {},
   "cell_type": "markdown",
   "metadata": {},
   "source": [
    "As the name suggests the `filter()` filters out data elements based on the given conditions. We use `lambda` here again to initiate the element from a list. We then use that element to set the condition.\n",
    "\n",
    "The filtered data can be stored in a variable as a new list then."
   ]
  },
  {
   "cell_type": "code",
   "execution_count": 15,
   "metadata": {},
   "outputs": [
    {
     "data": {
      "text/plain": [
       "[2, 4]"
      ]
     },
     "execution_count": 15,
     "metadata": {},
     "output_type": "execute_result"
    }
   ],
   "source": [
    "filter_number = list(filter(lambda number: number%2 == 0,numbers)) # filters out all even numbers and presents them\n",
    "filter_number"
   ]
  },
  {
   "attachments": {},
   "cell_type": "markdown",
   "metadata": {},
   "source": [
    "### Reduce"
   ]
  },
  {
   "attachments": {},
   "cell_type": "markdown",
   "metadata": {},
   "source": [
    "This can help reduce or deduce a logical aspect from a list or data. It uses the `lambda` to initiate a function and that function is used to perform specified logic on the entire dataset (entire list)."
   ]
  },
  {
   "cell_type": "code",
   "execution_count": 20,
   "metadata": {},
   "outputs": [
    {
     "data": {
      "text/plain": [
       "120"
      ]
     },
     "execution_count": 20,
     "metadata": {},
     "output_type": "execute_result"
    }
   ],
   "source": [
    "from functools import reduce\n",
    "# numbers = [1,2,3,4,5] has already been declared before\n",
    "reduce_mutiple = reduce(lambda total, number: number*total, numbers,  1) # multiplies everything in a dataset\n",
    "reduce_mutiple"
   ]
  },
  {
   "attachments": {},
   "cell_type": "markdown",
   "metadata": {},
   "source": [
    "## Part IV: Project - *Web Scraper*"
   ]
  },
  {
   "attachments": {},
   "cell_type": "markdown",
   "metadata": {},
   "source": [
    "In this section we will create a project that can utilise information off of a website, especially in a condition where there is no explicit *API* available."
   ]
  },
  {
   "cell_type": "markdown",
   "metadata": {},
   "source": [
    "The following code block simply returns the `URL`'s response to us. This response is **not** the content of the webpage mentioned in `URL`."
   ]
  },
  {
   "cell_type": "code",
   "execution_count": 5,
   "metadata": {},
   "outputs": [
    {
     "data": {
      "text/plain": [
       "<Response [200]>"
      ]
     },
     "execution_count": 5,
     "metadata": {},
     "output_type": "execute_result"
    }
   ],
   "source": [
    "import requests # 'request' library\n",
    "\n",
    "URL = 'https://linkedin.com' # URL for 'LinkedIn.com'\n",
    "response = requests.get(URL) # stores the URL's response in a 'response' variable\n",
    "\n",
    "response # outputs 'response' varible's information"
   ]
  },
  {
   "cell_type": "markdown",
   "metadata": {},
   "source": [
    "The output `<Response [200]>` in *HTTPS* terms, this implies \"OK\"; as in the return of the request has been successfully received. The following code block does exactly same."
   ]
  },
  {
   "cell_type": "code",
   "execution_count": 4,
   "metadata": {},
   "outputs": [
    {
     "name": "stdout",
     "output_type": "stream",
     "text": [
      "200\n"
     ]
    }
   ],
   "source": [
    "print(response.status_code)"
   ]
  },
  {
   "cell_type": "markdown",
   "metadata": {},
   "source": [
    "To get the content from this webpage we can use the `.content` method, and we will get the page's source-code in return. This has not been shown below as it is a massive block of code and would take too much space causing congestion and eye-stain."
   ]
  },
  {
   "cell_type": "code",
   "execution_count": null,
   "metadata": {},
   "outputs": [],
   "source": [
    "response.content # returns the page's source-code"
   ]
  },
  {
   "cell_type": "markdown",
   "metadata": {},
   "source": [
    "### *Pixelford*"
   ]
  },
  {
   "cell_type": "markdown",
   "metadata": {},
   "source": [
    "We now want to call a website called *Pixelford*. *Pixelford* is a fictitious website created simply to mess around with. It is an arbitrary photography consultancy website that hosts blogs, gig requests, and about pages. We are going to use the `requests` again to get an \"OK\" (`<Response [200]>`) response from the *URL* making sure everything is in order, i.e., we are communicating with the page as intended."
   ]
  },
  {
   "cell_type": "markdown",
   "metadata": {},
   "source": [
    "*Pixelford*'s blog page URL: https://pixelford.com/blog/"
   ]
  },
  {
   "cell_type": "code",
   "execution_count": 6,
   "metadata": {},
   "outputs": [
    {
     "data": {
      "text/plain": [
       "<Response [403]>"
      ]
     },
     "execution_count": 6,
     "metadata": {},
     "output_type": "execute_result"
    }
   ],
   "source": [
    "pixelford_URL = 'https://pixelford.com/blog/' # URL for 'PIXELFORD'\n",
    "response = requests.get(pixelford_URL) # stores the URL's response in a 'response' variable\n",
    "\n",
    "response # outputs 'response' varible's information"
   ]
  },
  {
   "cell_type": "markdown",
   "metadata": {},
   "source": [
    "It can be seen that our response from *Pixeford* returns a response type `403`. This implies that the website's server is forbidden to us. This occurrence provides valuable insights into web scraping challenges. The website we're scraping, *Pixelford*, is an example website from *LinkedIn Learning*, used for learning purposes. However, due to high student requests post-course release, the website's server software flagged excessive requests from tools like Python as potentially malicious, causing the blocking of such requests. This is due to the **user agent** information transmitted with web requests, indicating the device and browser being used. Browsers usually provide detailed user agent data, while Python's requests may have a different user agent. This discrepancy leads to the server perceiving Python requests as suspicious.\n",
    "\n",
    "The only practical way to work around is to change the **user agent**'s header data. Changing the **user agent**'s header data will make the computer believe that not any random python user is requesting the information, but a particular user is, which it will not consider malicious (or forbid-worthy). By that it is implied the **user agent**'s token be changed. This can be done by adding the `requests` library's `headers = {'user-agent': '<whatever unique/random name we want for our user>'}` assignment operator to the `.get` request. This has been shown below."
   ]
  },
  {
   "cell_type": "code",
   "execution_count": 8,
   "metadata": {},
   "outputs": [
    {
     "data": {
      "text/plain": [
       "<Response [200]>"
      ]
     },
     "execution_count": 8,
     "metadata": {},
     "output_type": "execute_result"
    }
   ],
   "source": [
    "pixelford_URL = 'https://pixelford.com/blog/' # URL for 'PIXELFORD-blogs'\n",
    "response_without403 = requests.get(pixelford_URL, headers = {'user-agent': 'pineapple'}) # using the 'headers' assignment operator to request using a unique alias\n",
    "\n",
    "response_without403 # outputs 'response_without403' varible's information"
   ]
  },
  {
   "cell_type": "markdown",
   "metadata": {},
   "source": [
    "We now get `<Response [200]>` which is a sign from *HTTPS* this is running \"OK\"."
   ]
  },
  {
   "cell_type": "markdown",
   "metadata": {},
   "source": [
    "### Beautiful Soup"
   ]
  },
  {
   "cell_type": "markdown",
   "metadata": {},
   "source": [
    "When we get requested content from webpages, it comes directly from their source code. This output is usually not user-friendly to look at specifically, to counter that we utilise *Beautiful Soup*."
   ]
  },
  {
   "cell_type": "code",
   "execution_count": 9,
   "metadata": {},
   "outputs": [],
   "source": [
    "from bs4 import BeautifulSoup # imports the required dependency"
   ]
  },
  {
   "cell_type": "markdown",
   "metadata": {},
   "source": [
    "Our aim: to webscrape all the titles from the \"blog\" webpage in *Pixelford*. When the source-code of this page is inspected, we come to realise that all the titles are under *a-tags* (`<a>...</a>`). So we call all the *a-tagged* content from the page. For that we first need to parse the received large content."
   ]
  },
  {
   "cell_type": "code",
   "execution_count": 10,
   "metadata": {},
   "outputs": [],
   "source": [
    "html = response_without403.content # calls all the content from our previously requested URL\n",
    "soup = BeautifulSoup(html, 'html.parser') # parses the large (ugly) content into digestable sets of data"
   ]
  },
  {
   "cell_type": "markdown",
   "metadata": {},
   "source": [
    "Now we can find all *a-tags* from our webscraped and parsed content. This can be done by using the `final_all()` function of *Beautiful Soup*. We use parameter `'a` and call all instances of *a-tags*."
   ]
  },
  {
   "cell_type": "code",
   "execution_count": 11,
   "metadata": {},
   "outputs": [
    {
     "data": {
      "text/plain": [
       "[<a href=\"https://pixelford.com/\">Pixelford Photography</a>,\n",
       " <a href=\"https://pixelford.com/about/\" itemprop=\"url\"><span itemprop=\"name\">About</span></a>,\n",
       " <a aria-current=\"page\" href=\"https://pixelford.com/blog/\" itemprop=\"url\"><span itemprop=\"name\">Blog</span></a>,\n",
       " <a href=\"https://pixelford.com/services/\" itemprop=\"url\"><span itemprop=\"name\">Services</span></a>,\n",
       " <a href=\"https://pixelford.com/process/\" itemprop=\"url\"><span itemprop=\"name\">Our Process</span></a>,\n",
       " <a href=\"https://pixelford.com/pricing/\" itemprop=\"url\"><span itemprop=\"name\">Pricing</span></a>,\n",
       " <a href=\"https://pixelford.com/portfolio/\" itemprop=\"url\"><span itemprop=\"name\">Portfolio</span></a>,\n",
       " <a href=\"https://pixelford.com/baby/\" itemprop=\"url\"><span itemprop=\"name\">Babies</span></a>,\n",
       " <a href=\"https://pixelford.com/engagement/\" itemprop=\"url\"><span itemprop=\"name\">Engagement</span></a>,\n",
       " <a href=\"https://pixelford.com/family/\" itemprop=\"url\"><span itemprop=\"name\">Family</span></a>,\n",
       " <a href=\"https://pixelford.com/fashion/\" itemprop=\"url\"><span itemprop=\"name\">Fashion</span></a>,\n",
       " <a href=\"https://pixelford.com/travel-lifestyle/\" itemprop=\"url\"><span itemprop=\"name\">Travel &amp; Lifestyle</span></a>,\n",
       " <a href=\"https://pixelford.com/contact/\" itemprop=\"url\"><span itemprop=\"name\">Contact</span></a>,\n",
       " <a class=\"entry-title-link\" href=\"https://pixelford.com/get-rid-photo-bombers/\" rel=\"bookmark\">Get Rid of Photo Bombers</a>,\n",
       " <a class=\"entry-author-link\" href=\"https://pixelford.com/author/assets/\" itemprop=\"url\" rel=\"author\"><span class=\"entry-author-name\" itemprop=\"name\">admin</span></a>,\n",
       " <a href=\"http://www.lynda.com/Illustrator-tutorials/296-Deleting-inadvertent-photo-bomber/76067/164352-4.html\" rel=\"noopener noreferrer\" target=\"_blank\">Deleting the inadvertent photo bomber</a>,\n",
       " <a href=\"https://pixelford.com/category/tips-tricks/\" rel=\"category tag\">Tips &amp; Tricks</a>,\n",
       " <a class=\"entry-title-link\" href=\"https://pixelford.com/external-light-meter-new-best-friend/\" rel=\"bookmark\">The External Light Meter: Your New Best Friend</a>,\n",
       " <a class=\"entry-author-link\" href=\"https://pixelford.com/author/assets/\" itemprop=\"url\" rel=\"author\"><span class=\"entry-author-name\" itemprop=\"name\">admin</span></a>,\n",
       " <a href=\"http://www.lynda.com/Photography-Cameras-Gear-tutorials/Using-external-light-meter/148583/155571-4.html\" rel=\"noopener noreferrer\" target=\"_blank\">using an external light meter</a>,\n",
       " <a href=\"https://pixelford.com/category/tips-tricks/\" rel=\"category tag\">Tips &amp; Tricks</a>,\n",
       " <a class=\"entry-title-link\" href=\"https://pixelford.com/bridal-gown-capturing-details-dress/\" rel=\"bookmark\">Bridal Gown: Capturing the Details of the Dress</a>,\n",
       " <a class=\"entry-author-link\" href=\"https://pixelford.com/author/assets/\" itemprop=\"url\" rel=\"author\"><span class=\"entry-author-name\" itemprop=\"name\">admin</span></a>,\n",
       " <a href=\"http://www.lynda.com/course-tutorials/Bringing-out-detail-wedding-dress/141502/151720-4.html\" rel=\"noopener noreferrer\" target=\"_blank\">interesting technique for bringing out the details of the dress</a>,\n",
       " <a href=\"https://pixelford.com/category/tips-tricks/\" rel=\"category tag\">Tips &amp; Tricks</a>,\n",
       " <a class=\"entry-title-link\" href=\"https://pixelford.com/shooting-wedding/\" rel=\"bookmark\">Shooting a Wedding</a>,\n",
       " <a class=\"entry-author-link\" href=\"https://pixelford.com/author/assets/\" itemprop=\"url\" rel=\"author\"><span class=\"entry-author-name\" itemprop=\"name\">admin</span></a>,\n",
       " <a href=\"http://www.lynda.com/Photography-Portraits-tutorials/Introducing-location/115859/127739-4.html\" rel=\"noopener noreferrer\" target=\"_blank\">this tutorial</a>,\n",
       " <a href=\"https://pixelford.com/category/tips-tricks/\" rel=\"category tag\">Tips &amp; Tricks</a>,\n",
       " <a class=\"entry-title-link\" href=\"https://pixelford.com/growth-baby-jill/\" rel=\"bookmark\">The Growth of Baby Jill</a>,\n",
       " <a class=\"entry-author-link\" href=\"https://pixelford.com/author/assets/\" itemprop=\"url\" rel=\"author\"><span class=\"entry-author-name\" itemprop=\"name\">admin</span></a>,\n",
       " <a href=\"http://pixelford.com/services/\">Grow Baby GrowTM</a>,\n",
       " <a href=\"https://pixelford.com/wp-content/uploads/2015/01/Baby-Jill_newborn_454312693.jpg\"><img alt=\"Baby Jill newborn\" class=\"wp-image-400\" decoding=\"async\" height=\"305\" sizes=\"(max-width: 458px) 100vw, 458px\" src=\"http://photography.wpdiy.net/genesis/wp-content/uploads/2015/01/Baby-Jill_newborn_454312693.jpg\" srcset=\"https://pixelford.com/wp-content/uploads/2015/01/Baby-Jill_newborn_454312693.jpg 1000w, https://pixelford.com/wp-content/uploads/2015/01/Baby-Jill_newborn_454312693-300x200.jpg 300w\" width=\"458\"/></a>,\n",
       " <a href=\"https://pixelford.com/wp-content/uploads/2015/01/Baby-Jill_6-months_176832857.jpg\"><img alt=\"Baby Jill at 6 months\" class=\"attachment-large size-large\" decoding=\"async\" height=\"1000\" loading=\"lazy\" sizes=\"(max-width: 800px) 100vw, 800px\" src=\"https://pixelford.com/wp-content/uploads/2015/01/Baby-Jill_6-months_176832857.jpg\" srcset=\"https://pixelford.com/wp-content/uploads/2015/01/Baby-Jill_6-months_176832857.jpg 800w, https://pixelford.com/wp-content/uploads/2015/01/Baby-Jill_6-months_176832857-240x300.jpg 240w\" width=\"800\"/></a>,\n",
       " <a href=\"https://pixelford.com/wp-content/uploads/2015/01/Baby-Jill_6-months_176809701.jpg\"><img alt=\"Baby Jill at 6 months\" class=\"attachment-large size-large\" decoding=\"async\" height=\"667\" loading=\"lazy\" sizes=\"(max-width: 1000px) 100vw, 1000px\" src=\"https://pixelford.com/wp-content/uploads/2015/01/Baby-Jill_6-months_176809701.jpg\" srcset=\"https://pixelford.com/wp-content/uploads/2015/01/Baby-Jill_6-months_176809701.jpg 1000w, https://pixelford.com/wp-content/uploads/2015/01/Baby-Jill_6-months_176809701-300x200.jpg 300w\" width=\"1000\"/></a>,\n",
       " <a href=\"https://pixelford.com/wp-content/uploads/2015/01/Baby-Jill_crawling_462464807.jpg\"><img alt=\"Baby Jill crawling\" aria-describedby=\"gallery-2-399\" class=\"attachment-medium size-medium\" decoding=\"async\" height=\"200\" loading=\"lazy\" sizes=\"(max-width: 300px) 100vw, 300px\" src=\"https://pixelford.com/wp-content/uploads/2015/01/Baby-Jill_crawling_462464807-300x200.jpg\" srcset=\"https://pixelford.com/wp-content/uploads/2015/01/Baby-Jill_crawling_462464807-300x200.jpg 300w, https://pixelford.com/wp-content/uploads/2015/01/Baby-Jill_crawling_462464807.jpg 1000w\" width=\"300\"/></a>,\n",
       " <a href=\"https://pixelford.com/wp-content/uploads/2015/01/Baby-Jil_shy-phase_469559305.jpg\"><img alt=\"Baby Jill shy phase\" aria-describedby=\"gallery-2-396\" class=\"attachment-medium size-medium\" decoding=\"async\" height=\"200\" loading=\"lazy\" sizes=\"(max-width: 300px) 100vw, 300px\" src=\"https://pixelford.com/wp-content/uploads/2015/01/Baby-Jil_shy-phase_469559305-300x200.jpg\" srcset=\"https://pixelford.com/wp-content/uploads/2015/01/Baby-Jil_shy-phase_469559305-300x200.jpg 300w, https://pixelford.com/wp-content/uploads/2015/01/Baby-Jil_shy-phase_469559305.jpg 1000w\" width=\"300\"/></a>,\n",
       " <a href=\"https://pixelford.com/wp-content/uploads/2015/01/Baby-Jill_walking_177402370.jpg\"><img alt=\"Baby Jill walking\" aria-describedby=\"gallery-3-401\" class=\"attachment-medium size-medium\" decoding=\"async\" height=\"240\" loading=\"lazy\" sizes=\"(max-width: 300px) 100vw, 300px\" src=\"https://pixelford.com/wp-content/uploads/2015/01/Baby-Jill_walking_177402370-300x240.jpg\" srcset=\"https://pixelford.com/wp-content/uploads/2015/01/Baby-Jill_walking_177402370-300x240.jpg 300w, https://pixelford.com/wp-content/uploads/2015/01/Baby-Jill_walking_177402370.jpg 1000w\" width=\"300\"/></a>,\n",
       " <a href=\"https://pixelford.com/wp-content/uploads/2015/01/Baby-Jill_walking_177494285.jpg\"><img alt=\"Baby Jill walking\" aria-describedby=\"gallery-3-402\" class=\"attachment-medium size-medium\" decoding=\"async\" height=\"300\" loading=\"lazy\" sizes=\"(max-width: 300px) 100vw, 300px\" src=\"https://pixelford.com/wp-content/uploads/2015/01/Baby-Jill_walking_177494285-300x300.jpg\" srcset=\"https://pixelford.com/wp-content/uploads/2015/01/Baby-Jill_walking_177494285-300x300.jpg 300w, https://pixelford.com/wp-content/uploads/2015/01/Baby-Jill_walking_177494285-150x150.jpg 150w, https://pixelford.com/wp-content/uploads/2015/01/Baby-Jill_walking_177494285-380x380.jpg 380w, https://pixelford.com/wp-content/uploads/2015/01/Baby-Jill_walking_177494285-50x50.jpg 50w, https://pixelford.com/wp-content/uploads/2015/01/Baby-Jill_walking_177494285.jpg 1000w\" width=\"300\"/></a>,\n",
       " <a href=\"https://pixelford.com/category/client-stories/\" rel=\"category tag\">Client Stories</a>,\n",
       " <a class=\"entry-title-link\" href=\"https://pixelford.com/jake-neopolt-fire-sky-album-cover/\" rel=\"bookmark\">Jake Neopolt, “Fire in the Sky” album cover</a>,\n",
       " <a class=\"entry-author-link\" href=\"https://pixelford.com/author/assets/\" itemprop=\"url\" rel=\"author\"><span class=\"entry-author-name\" itemprop=\"name\">admin</span></a>,\n",
       " <a href=\"https://pixelford.com/wp-content/uploads/2015/01/Jake-Neopolt_531306709.jpg\"><img alt=\"Jake Neopolt\" aria-describedby=\"gallery-4-412\" class=\"attachment-large size-large\" decoding=\"async\" height=\"667\" loading=\"lazy\" sizes=\"(max-width: 1000px) 100vw, 1000px\" src=\"https://pixelford.com/wp-content/uploads/2015/01/Jake-Neopolt_531306709.jpg\" srcset=\"https://pixelford.com/wp-content/uploads/2015/01/Jake-Neopolt_531306709.jpg 1000w, https://pixelford.com/wp-content/uploads/2015/01/Jake-Neopolt_531306709-300x200.jpg 300w\" width=\"1000\"/></a>,\n",
       " <a href=\"https://pixelford.com/wp-content/uploads/2015/01/Jake-Neopolt_531279801.jpg\"><img alt=\"Jake Neopolt\" aria-describedby=\"gallery-4-409\" class=\"attachment-large size-large\" decoding=\"async\" height=\"699\" loading=\"lazy\" sizes=\"(max-width: 1000px) 100vw, 1000px\" src=\"https://pixelford.com/wp-content/uploads/2015/01/Jake-Neopolt_531279801.jpg\" srcset=\"https://pixelford.com/wp-content/uploads/2015/01/Jake-Neopolt_531279801.jpg 1000w, https://pixelford.com/wp-content/uploads/2015/01/Jake-Neopolt_531279801-300x210.jpg 300w\" width=\"1000\"/></a>,\n",
       " <a href=\"https://pixelford.com/wp-content/uploads/2015/01/Jake-Neopolt_531275583.jpg\"><img alt=\"Jake Neopolt\" aria-describedby=\"gallery-4-407\" class=\"attachment-large size-large\" decoding=\"async\" height=\"667\" loading=\"lazy\" sizes=\"(max-width: 1000px) 100vw, 1000px\" src=\"https://pixelford.com/wp-content/uploads/2015/01/Jake-Neopolt_531275583.jpg\" srcset=\"https://pixelford.com/wp-content/uploads/2015/01/Jake-Neopolt_531275583.jpg 1000w, https://pixelford.com/wp-content/uploads/2015/01/Jake-Neopolt_531275583-300x200.jpg 300w\" width=\"1000\"/></a>,\n",
       " <a href=\"https://pixelford.com/wp-content/uploads/2015/01/Jake-Neopolt_531277211.jpg\"><img alt=\"Jake Neopolt, hipster before hipster was cool.\" aria-describedby=\"gallery-4-408\" class=\"attachment-large size-large\" decoding=\"async\" height=\"1000\" loading=\"lazy\" sizes=\"(max-width: 667px) 100vw, 667px\" src=\"https://pixelford.com/wp-content/uploads/2015/01/Jake-Neopolt_531277211.jpg\" srcset=\"https://pixelford.com/wp-content/uploads/2015/01/Jake-Neopolt_531277211.jpg 667w, https://pixelford.com/wp-content/uploads/2015/01/Jake-Neopolt_531277211-200x300.jpg 200w\" width=\"667\"/></a>,\n",
       " <a href=\"https://pixelford.com/wp-content/uploads/2015/01/Jake-Neopolt_531279807.jpg\"><img alt=\"Jake Neopolt\" aria-describedby=\"gallery-4-411\" class=\"attachment-large size-large\" decoding=\"async\" height=\"667\" loading=\"lazy\" sizes=\"(max-width: 1000px) 100vw, 1000px\" src=\"https://pixelford.com/wp-content/uploads/2015/01/Jake-Neopolt_531279807.jpg\" srcset=\"https://pixelford.com/wp-content/uploads/2015/01/Jake-Neopolt_531279807.jpg 1000w, https://pixelford.com/wp-content/uploads/2015/01/Jake-Neopolt_531279807-300x200.jpg 300w\" width=\"1000\"/></a>,\n",
       " <a href=\"https://pixelford.com/wp-content/uploads/2015/01/Jake-Neopolt_531279803.jpg\"><img alt=\"Jake Neopolt\" aria-describedby=\"gallery-4-410\" class=\"attachment-large size-large\" decoding=\"async\" height=\"667\" loading=\"lazy\" sizes=\"(max-width: 1000px) 100vw, 1000px\" src=\"https://pixelford.com/wp-content/uploads/2015/01/Jake-Neopolt_531279803.jpg\" srcset=\"https://pixelford.com/wp-content/uploads/2015/01/Jake-Neopolt_531279803.jpg 1000w, https://pixelford.com/wp-content/uploads/2015/01/Jake-Neopolt_531279803-300x200.jpg 300w\" width=\"1000\"/></a>,\n",
       " <a href=\"https://pixelford.com/category/client-stories/\" rel=\"category tag\">Client Stories</a>,\n",
       " <a class=\"entry-title-link\" href=\"https://pixelford.com/chen-family/\" rel=\"bookmark\">Chen Family</a>,\n",
       " <a class=\"entry-author-link\" href=\"https://pixelford.com/author/assets/\" itemprop=\"url\" rel=\"author\"><span class=\"entry-author-name\" itemprop=\"name\">admin</span></a>,\n",
       " <a href=\"https://pixelford.com/wp-content/uploads/2015/01/Chen-Family_169279508.jpg\"><img alt=\"Chen Family\" aria-describedby=\"gallery-5-415\" class=\"attachment-medium size-medium\" decoding=\"async\" height=\"200\" loading=\"lazy\" sizes=\"(max-width: 300px) 100vw, 300px\" src=\"https://pixelford.com/wp-content/uploads/2015/01/Chen-Family_169279508-300x200.jpg\" srcset=\"https://pixelford.com/wp-content/uploads/2015/01/Chen-Family_169279508-300x200.jpg 300w, https://pixelford.com/wp-content/uploads/2015/01/Chen-Family_169279508.jpg 1000w\" width=\"300\"/></a>,\n",
       " <a href=\"https://pixelford.com/wp-content/uploads/2015/01/Chen-Family_169279540.jpg\"><img alt=\"Chen Family\" aria-describedby=\"gallery-5-416\" class=\"attachment-medium size-medium\" decoding=\"async\" height=\"300\" loading=\"lazy\" sizes=\"(max-width: 278px) 100vw, 278px\" src=\"https://pixelford.com/wp-content/uploads/2015/01/Chen-Family_169279540-278x300.jpg\" srcset=\"https://pixelford.com/wp-content/uploads/2015/01/Chen-Family_169279540-278x300.jpg 278w, https://pixelford.com/wp-content/uploads/2015/01/Chen-Family_169279540.jpg 926w\" width=\"278\"/></a>,\n",
       " <a href=\"https://pixelford.com/wp-content/uploads/2015/01/Chen-Family_454294875.jpg\"><img alt=\"Chen Family\" aria-describedby=\"gallery-5-417\" class=\"attachment-medium size-medium\" decoding=\"async\" height=\"200\" loading=\"lazy\" sizes=\"(max-width: 300px) 100vw, 300px\" src=\"https://pixelford.com/wp-content/uploads/2015/01/Chen-Family_454294875-300x200.jpg\" srcset=\"https://pixelford.com/wp-content/uploads/2015/01/Chen-Family_454294875-300x200.jpg 300w, https://pixelford.com/wp-content/uploads/2015/01/Chen-Family_454294875.jpg 1000w\" width=\"300\"/></a>,\n",
       " <a href=\"https://pixelford.com/wp-content/uploads/2015/01/Chen-Family_454294967.jpg\"><img alt=\"Chen Family\" aria-describedby=\"gallery-5-418\" class=\"attachment-medium size-medium\" decoding=\"async\" height=\"200\" loading=\"lazy\" sizes=\"(max-width: 300px) 100vw, 300px\" src=\"https://pixelford.com/wp-content/uploads/2015/01/Chen-Family_454294967-300x200.jpg\" srcset=\"https://pixelford.com/wp-content/uploads/2015/01/Chen-Family_454294967-300x200.jpg 300w, https://pixelford.com/wp-content/uploads/2015/01/Chen-Family_454294967.jpg 1000w\" width=\"300\"/></a>,\n",
       " <a href=\"https://pixelford.com/wp-content/uploads/2015/01/Chen-Family_454321923.jpg\"><img alt=\"Chen Family\" aria-describedby=\"gallery-5-419\" class=\"attachment-medium size-medium\" decoding=\"async\" height=\"200\" loading=\"lazy\" sizes=\"(max-width: 300px) 100vw, 300px\" src=\"https://pixelford.com/wp-content/uploads/2015/01/Chen-Family_454321923-300x200.jpg\" srcset=\"https://pixelford.com/wp-content/uploads/2015/01/Chen-Family_454321923-300x200.jpg 300w, https://pixelford.com/wp-content/uploads/2015/01/Chen-Family_454321923.jpg 1000w\" width=\"300\"/></a>,\n",
       " <a href=\"https://pixelford.com/wp-content/uploads/2015/01/Chen-Family_454980251.jpg\"><img alt=\"Chen Family\" aria-describedby=\"gallery-5-420\" class=\"attachment-medium size-medium\" decoding=\"async\" height=\"200\" loading=\"lazy\" sizes=\"(max-width: 300px) 100vw, 300px\" src=\"https://pixelford.com/wp-content/uploads/2015/01/Chen-Family_454980251-300x200.jpg\" srcset=\"https://pixelford.com/wp-content/uploads/2015/01/Chen-Family_454980251-300x200.jpg 300w, https://pixelford.com/wp-content/uploads/2015/01/Chen-Family_454980251.jpg 1000w\" width=\"300\"/></a>,\n",
       " <a href=\"https://pixelford.com/category/client-stories/\" rel=\"category tag\">Client Stories</a>,\n",
       " <a class=\"entry-title-link\" href=\"https://pixelford.com/juliane-hanz/\" rel=\"bookmark\">Juliane and Hanz</a>,\n",
       " <a class=\"entry-author-link\" href=\"https://pixelford.com/author/assets/\" itemprop=\"url\" rel=\"author\"><span class=\"entry-author-name\" itemprop=\"name\">admin</span></a>,\n",
       " <a href=\"https://pixelford.com/wp-content/uploads/2015/01/Juliane-and-Hanz_453278947.jpg\"><img alt=\"Juliane and Hanz\" class=\"wp-image-426 size-thumbnail\" decoding=\"async\" height=\"150\" loading=\"lazy\" sizes=\"(max-width: 150px) 100vw, 150px\" src=\"https://pixelford.com/wp-content/uploads/2015/01/Juliane-and-Hanz_453278947-150x150.jpg\" srcset=\"https://pixelford.com/wp-content/uploads/2015/01/Juliane-and-Hanz_453278947-150x150.jpg 150w, https://pixelford.com/wp-content/uploads/2015/01/Juliane-and-Hanz_453278947-380x380.jpg 380w, https://pixelford.com/wp-content/uploads/2015/01/Juliane-and-Hanz_453278947-50x50.jpg 50w\" width=\"150\"/></a>,\n",
       " <a href=\"https://pixelford.com/wp-content/uploads/2015/01/Juliane-and-Hanz_464793173.jpg\"><img alt=\"Juliane and Hanz\" aria-describedby=\"gallery-6-427\" class=\"attachment-large size-large\" decoding=\"async\" height=\"1000\" loading=\"lazy\" sizes=\"(max-width: 667px) 100vw, 667px\" src=\"https://pixelford.com/wp-content/uploads/2015/01/Juliane-and-Hanz_464793173.jpg\" srcset=\"https://pixelford.com/wp-content/uploads/2015/01/Juliane-and-Hanz_464793173.jpg 667w, https://pixelford.com/wp-content/uploads/2015/01/Juliane-and-Hanz_464793173-200x300.jpg 200w\" width=\"667\"/></a>,\n",
       " <a href=\"https://pixelford.com/wp-content/uploads/2015/01/Juliane-and-Hanz_470227343.jpg\"><img alt=\"Juliane and Hanz\" aria-describedby=\"gallery-6-428\" class=\"attachment-large size-large\" decoding=\"async\" height=\"664\" loading=\"lazy\" sizes=\"(max-width: 1000px) 100vw, 1000px\" src=\"https://pixelford.com/wp-content/uploads/2015/01/Juliane-and-Hanz_470227343.jpg\" srcset=\"https://pixelford.com/wp-content/uploads/2015/01/Juliane-and-Hanz_470227343.jpg 1000w, https://pixelford.com/wp-content/uploads/2015/01/Juliane-and-Hanz_470227343-300x199.jpg 300w\" width=\"1000\"/></a>,\n",
       " <a href=\"https://pixelford.com/wp-content/uploads/2015/01/Juliane-and-Hanz_452257589.jpg\"><img alt=\"Juliane and Hanz\" aria-describedby=\"gallery-6-425\" class=\"attachment-large size-large\" decoding=\"async\" height=\"664\" loading=\"lazy\" sizes=\"(max-width: 1000px) 100vw, 1000px\" src=\"https://pixelford.com/wp-content/uploads/2015/01/Juliane-and-Hanz_452257589.jpg\" srcset=\"https://pixelford.com/wp-content/uploads/2015/01/Juliane-and-Hanz_452257589.jpg 1000w, https://pixelford.com/wp-content/uploads/2015/01/Juliane-and-Hanz_452257589-300x199.jpg 300w\" width=\"1000\"/></a>,\n",
       " <a href=\"https://pixelford.com/wp-content/uploads/2015/01/Juliane-and-Hanz_168776032.jpg\"><img alt=\"Juliane and Hanz\" aria-describedby=\"gallery-6-424\" class=\"attachment-large size-large\" decoding=\"async\" height=\"667\" loading=\"lazy\" sizes=\"(max-width: 1000px) 100vw, 1000px\" src=\"https://pixelford.com/wp-content/uploads/2015/01/Juliane-and-Hanz_168776032.jpg\" srcset=\"https://pixelford.com/wp-content/uploads/2015/01/Juliane-and-Hanz_168776032.jpg 1000w, https://pixelford.com/wp-content/uploads/2015/01/Juliane-and-Hanz_168776032-300x200.jpg 300w\" width=\"1000\"/></a>,\n",
       " <a href=\"https://pixelford.com/category/client-stories/\" rel=\"category tag\">Client Stories</a>,\n",
       " <a class=\"entry-title-link\" href=\"https://pixelford.com/authentic-charm-coney-island/\" rel=\"bookmark\">The Authentic Charm of Coney Island</a>,\n",
       " <a class=\"entry-author-link\" href=\"https://pixelford.com/author/assets/\" itemprop=\"url\" rel=\"author\"><span class=\"entry-author-name\" itemprop=\"name\">admin</span></a>,\n",
       " <a href=\"https://pixelford.com/wp-content/uploads/2015/01/boardwalk-at-night-CI_153151451.jpg\"><img alt=\"Boardwalk at night\" aria-describedby=\"gallery-7-431\" class=\"attachment-thumbnail size-thumbnail\" decoding=\"async\" height=\"150\" loading=\"lazy\" sizes=\"(max-width: 150px) 100vw, 150px\" src=\"https://pixelford.com/wp-content/uploads/2015/01/boardwalk-at-night-CI_153151451-150x150.jpg\" srcset=\"https://pixelford.com/wp-content/uploads/2015/01/boardwalk-at-night-CI_153151451-150x150.jpg 150w, https://pixelford.com/wp-content/uploads/2015/01/boardwalk-at-night-CI_153151451-380x380.jpg 380w, https://pixelford.com/wp-content/uploads/2015/01/boardwalk-at-night-CI_153151451-50x50.jpg 50w\" width=\"150\"/></a>,\n",
       " <a href=\"https://pixelford.com/wp-content/uploads/2015/01/sunset-CI_488178505.jpg\"><img alt=\"\" aria-describedby=\"gallery-7-437\" class=\"attachment-thumbnail size-thumbnail\" decoding=\"async\" height=\"150\" loading=\"lazy\" sizes=\"(max-width: 150px) 100vw, 150px\" src=\"https://pixelford.com/wp-content/uploads/2015/01/sunset-CI_488178505-150x150.jpg\" srcset=\"https://pixelford.com/wp-content/uploads/2015/01/sunset-CI_488178505-150x150.jpg 150w, https://pixelford.com/wp-content/uploads/2015/01/sunset-CI_488178505-380x380.jpg 380w, https://pixelford.com/wp-content/uploads/2015/01/sunset-CI_488178505-50x50.jpg 50w\" width=\"150\"/></a>,\n",
       " <a href=\"https://pixelford.com/wp-content/uploads/2015/01/lollipop-girls-CI_512549311.jpg\"><img alt=\"Lollipop girls\" aria-describedby=\"gallery-8-435\" class=\"attachment-medium size-medium\" decoding=\"async\" height=\"200\" loading=\"lazy\" sizes=\"(max-width: 300px) 100vw, 300px\" src=\"https://pixelford.com/wp-content/uploads/2015/01/lollipop-girls-CI_512549311-300x200.jpg\" srcset=\"https://pixelford.com/wp-content/uploads/2015/01/lollipop-girls-CI_512549311-300x200.jpg 300w, https://pixelford.com/wp-content/uploads/2015/01/lollipop-girls-CI_512549311.jpg 1000w\" width=\"300\"/></a>,\n",
       " <a href=\"https://pixelford.com/wp-content/uploads/2015/01/kids-CI_140270424.jpg\"><img alt=\"Kids at the beach\" aria-describedby=\"gallery-8-434\" class=\"attachment-medium size-medium\" decoding=\"async\" height=\"200\" loading=\"lazy\" sizes=\"(max-width: 300px) 100vw, 300px\" src=\"https://pixelford.com/wp-content/uploads/2015/01/kids-CI_140270424-300x200.jpg\" srcset=\"https://pixelford.com/wp-content/uploads/2015/01/kids-CI_140270424-300x200.jpg 300w, https://pixelford.com/wp-content/uploads/2015/01/kids-CI_140270424.jpg 1000w\" width=\"300\"/></a>,\n",
       " <a href=\"https://pixelford.com/wp-content/uploads/2015/01/mermaid-CI_116026444.jpg\"><img alt=\"Weird Mermaid Lady\" aria-describedby=\"gallery-8-436\" class=\"attachment-medium size-medium\" decoding=\"async\" height=\"200\" loading=\"lazy\" sizes=\"(max-width: 300px) 100vw, 300px\" src=\"https://pixelford.com/wp-content/uploads/2015/01/mermaid-CI_116026444-300x200.jpg\" srcset=\"https://pixelford.com/wp-content/uploads/2015/01/mermaid-CI_116026444-300x200.jpg 300w, https://pixelford.com/wp-content/uploads/2015/01/mermaid-CI_116026444.jpg 1000w\" width=\"300\"/></a>,\n",
       " <a href=\"https://pixelford.com/wp-content/uploads/2015/01/double-dog-CI_78057900.jpg\"><img alt=\"A Double Dog!\" aria-describedby=\"gallery-8-433\" class=\"attachment-medium size-medium\" decoding=\"async\" height=\"199\" loading=\"lazy\" sizes=\"(max-width: 300px) 100vw, 300px\" src=\"https://pixelford.com/wp-content/uploads/2015/01/double-dog-CI_78057900-300x199.jpg\" srcset=\"https://pixelford.com/wp-content/uploads/2015/01/double-dog-CI_78057900-300x199.jpg 300w, https://pixelford.com/wp-content/uploads/2015/01/double-dog-CI_78057900.jpg 1000w\" width=\"300\"/></a>,\n",
       " <a href=\"https://pixelford.com/wp-content/uploads/2015/01/cotton-candy-CI_78057895.jpg\"><img alt=\"Cotton Candy Couple\" aria-describedby=\"gallery-8-432\" class=\"attachment-medium size-medium\" decoding=\"async\" height=\"199\" loading=\"lazy\" sizes=\"(max-width: 300px) 100vw, 300px\" src=\"https://pixelford.com/wp-content/uploads/2015/01/cotton-candy-CI_78057895-300x199.jpg\" srcset=\"https://pixelford.com/wp-content/uploads/2015/01/cotton-candy-CI_78057895-300x199.jpg 300w, https://pixelford.com/wp-content/uploads/2015/01/cotton-candy-CI_78057895.jpg 1000w\" width=\"300\"/></a>,\n",
       " <a href=\"https://pixelford.com/category/location-shooting-tips/\" rel=\"category tag\">Location Shooting Tips</a>,\n",
       " <a class=\"entry-title-link\" href=\"https://pixelford.com/brooklyn-bridge-one-bridge-many-options/\" rel=\"bookmark\">Brooklyn Bridge – One Bridge, So Many Options</a>,\n",
       " <a class=\"entry-author-link\" href=\"https://pixelford.com/author/assets/\" itemprop=\"url\" rel=\"author\"><span class=\"entry-author-name\" itemprop=\"name\">admin</span></a>,\n",
       " <a href=\"https://pixelford.com/wp-content/uploads/2015/01/Black-White_Brooklyn-Bridge_522914643.jpg\"><img alt=\"Black &amp; White Brooklyn Bridge\" class=\"alignnone wp-image-442 size-full\" decoding=\"async\" height=\"656\" loading=\"lazy\" sizes=\"(max-width: 1000px) 100vw, 1000px\" src=\"https://pixelford.com/wp-content/uploads/2015/01/Black-White_Brooklyn-Bridge_522914643.jpg\" srcset=\"https://pixelford.com/wp-content/uploads/2015/01/Black-White_Brooklyn-Bridge_522914643.jpg 1000w, https://pixelford.com/wp-content/uploads/2015/01/Black-White_Brooklyn-Bridge_522914643-300x197.jpg 300w\" width=\"1000\"/></a>,\n",
       " <a href=\"https://pixelford.com/wp-content/uploads/2015/01/Teenage-Rebellion_Brooklyn-Bridge_dv1329035.jpg\"><img alt=\"Teenage Rebellion\" class=\"aligncenter wp-image-446 size-full\" decoding=\"async\" height=\"1000\" loading=\"lazy\" sizes=\"(max-width: 801px) 100vw, 801px\" src=\"https://pixelford.com/wp-content/uploads/2015/01/Teenage-Rebellion_Brooklyn-Bridge_dv1329035.jpg\" srcset=\"https://pixelford.com/wp-content/uploads/2015/01/Teenage-Rebellion_Brooklyn-Bridge_dv1329035.jpg 801w, https://pixelford.com/wp-content/uploads/2015/01/Teenage-Rebellion_Brooklyn-Bridge_dv1329035-240x300.jpg 240w\" width=\"801\"/></a>,\n",
       " <a href=\"https://pixelford.com/wp-content/uploads/2015/01/Blur-of-Activity_Brooklyn-Bridge_524687301.jpg\"><img alt=\"Blur of Activity\" class=\"aligncenter wp-image-443 size-full\" decoding=\"async\" height=\"667\" loading=\"lazy\" sizes=\"(max-width: 1000px) 100vw, 1000px\" src=\"https://pixelford.com/wp-content/uploads/2015/01/Blur-of-Activity_Brooklyn-Bridge_524687301.jpg\" srcset=\"https://pixelford.com/wp-content/uploads/2015/01/Blur-of-Activity_Brooklyn-Bridge_524687301.jpg 1000w, https://pixelford.com/wp-content/uploads/2015/01/Blur-of-Activity_Brooklyn-Bridge_524687301-300x200.jpg 300w\" width=\"1000\"/></a>,\n",
       " <a href=\"https://pixelford.com/wp-content/uploads/2015/01/Color-Sparkle_475459085.jpg\"><img alt=\"Color &amp; Sparkle\" class=\"aligncenter wp-image-445 size-full\" decoding=\"async\" height=\"662\" loading=\"lazy\" sizes=\"(max-width: 1000px) 100vw, 1000px\" src=\"https://pixelford.com/wp-content/uploads/2015/01/Color-Sparkle_475459085.jpg\" srcset=\"https://pixelford.com/wp-content/uploads/2015/01/Color-Sparkle_475459085.jpg 1000w, https://pixelford.com/wp-content/uploads/2015/01/Color-Sparkle_475459085-300x199.jpg 300w\" width=\"1000\"/></a>,\n",
       " <a href=\"https://pixelford.com/wp-content/uploads/2015/01/Wedding-Walk_Brooklyn-Bridge_76804547.jpg\"><img alt=\"Wedding Walk\" class=\"aligncenter wp-image-447 size-full\" decoding=\"async\" height=\"1000\" loading=\"lazy\" sizes=\"(max-width: 667px) 100vw, 667px\" src=\"https://pixelford.com/wp-content/uploads/2015/01/Wedding-Walk_Brooklyn-Bridge_76804547.jpg\" srcset=\"https://pixelford.com/wp-content/uploads/2015/01/Wedding-Walk_Brooklyn-Bridge_76804547.jpg 667w, https://pixelford.com/wp-content/uploads/2015/01/Wedding-Walk_Brooklyn-Bridge_76804547-200x300.jpg 200w\" width=\"667\"/></a>,\n",
       " <a href=\"https://pixelford.com/category/client-stories/\" rel=\"category tag\">Client Stories</a>,\n",
       " <a href=\"https://pixelford.com/category/location-shooting-tips/\" rel=\"category tag\">Location Shooting Tips</a>,\n",
       " <a aria-current=\"page\" aria-label=\"Current page\" href=\"https://pixelford.com/blog/\">1</a>,\n",
       " <a href=\"https://pixelford.com/blog/page/2/\">2</a>,\n",
       " <a href=\"https://pixelford.com/blog/page/2/\">Next Page »</a>,\n",
       " <a href=\"https://pixelford.com/contact\">Contact us today</a>,\n",
       " <a href=\"http://instagram.com/pixelford/\" itemprop=\"url\"><span itemprop=\"name\">Instagram</span></a>,\n",
       " <a href=\"https://twitter.com/pixelford\" itemprop=\"url\"><span itemprop=\"name\">Twitter</span></a>,\n",
       " <a href=\"https://www.facebook.com/pixelford\" itemprop=\"url\"><span itemprop=\"name\">Facebook</span></a>,\n",
       " <a href=\"http://www.linkedin.com/in/pixelford\" itemprop=\"url\"><span itemprop=\"name\">LinkedIn</span></a>]"
      ]
     },
     "execution_count": 11,
     "metadata": {},
     "output_type": "execute_result"
    }
   ],
   "source": [
    "a_tags = soup.find_all('a') # finds all instances of a_tags in the tag headers and stores in 'a_tags'\n",
    "a_tags # returns all data in 'a_tags'"
   ]
  },
  {
   "cell_type": "markdown",
   "metadata": {},
   "source": [
    "As it is visible, we have received all the data where *a-tags* exist. But it can be seen that we have received every single instance of an *a_tag*, including the links and link-pages, we don't need it. So, we need to request in order to get an even cleaner looking output. The aim is to get an output with **only** the titles. We can do that by establishing a `class_` parameter and setting it to `'entry-title-link'`. We got the `'entry-title-link'` parameter from the source-code, it is subjective to vary."
   ]
  },
  {
   "cell_type": "code",
   "execution_count": 13,
   "metadata": {},
   "outputs": [
    {
     "name": "stdout",
     "output_type": "stream",
     "text": [
      "Get Rid of Photo Bombers\n",
      "The External Light Meter: Your New Best Friend\n",
      "Bridal Gown: Capturing the Details of the Dress\n",
      "Shooting a Wedding\n",
      "The Growth of Baby Jill\n",
      "Jake Neopolt, “Fire in the Sky” album cover\n",
      "Chen Family\n",
      "Juliane and Hanz\n",
      "The Authentic Charm of Coney Island\n",
      "Brooklyn Bridge – One Bridge, So Many Options\n"
     ]
    }
   ],
   "source": [
    "a_tags_title = soup.find_all('a', class_ = 'entry-title-link')\n",
    "\n",
    "for a_tag in a_tags_title:\n",
    "    print(a_tag.get_text()) # periodically prints all the titles as text outputs"
   ]
  },
  {
   "cell_type": "markdown",
   "metadata": {},
   "source": [
    "Now that we have our titles retrieved, let us save it as a data-pack."
   ]
  },
  {
   "cell_type": "code",
   "execution_count": 14,
   "metadata": {},
   "outputs": [],
   "source": [
    "titles = list(map(lambda a_tag: a_tag.get_text(), a_tags_title)) # maps all the titles, converts into texts, and saves them as a list into var: 'title'"
   ]
  },
  {
   "cell_type": "markdown",
   "metadata": {},
   "source": [
    "With this all titles are saved into list called `titles`. This can be used to manipulate the data as use it for $n$ number of purposes."
   ]
  },
  {
   "cell_type": "markdown",
   "metadata": {},
   "source": [
    "### Final Webscraper"
   ]
  },
  {
   "cell_type": "markdown",
   "metadata": {},
   "source": [
    "Our current web scraper is quite impressive. It diligently retrieves blog post titles and displays them in a neat list. However, the blog posts contain more than just titles. Notably, the publication date holds our particular interest. The idea is to exhibit the post's creation date, enabling users to spot new content effortlessly.\n",
    "\n",
    "Upon examination, we notice the date lies just below the *a-tag*, which holds the blog post title. It resides within a *time* tag, offering precise details: the year, month, day, hour, minute, and second. While a well-formatted \"September 13th, 2019\" is tempting, we can also extract the detailed `datetime` if necessary.\n",
    "\n",
    "The plan is to revamp our Beautiful Soup code. Instead of targeting *a-tags*, we'll focus on articles (blogs). This approach aligns with our reference to \"blog posts.\" By searching for the *article* tag, we filter content effectively. Our code now captures all the articles, and to fine-tune, we look for the class `type post` within the article.\n",
    "\n",
    "Next, we zero in on the title and date within each blog. To access the title, we employ Beautiful Soup's `find` method on the blog element, looking for an *a-tag* with class `entry title link`. The title is extracted and simplified for clarity.\n",
    "\n",
    "Parsing the date proves equally insightful. The date lies within a *time* tag labeled `entry time`. We retrieve this tag and subsequently transform the `datetime` string into a more manageable `datetime` object using Python's built-in `datetime` module.\n",
    "\n",
    "Our `datetime` object now takes center stage. We desire a personalized date representation, and Python's `strftime` method comes to the rescue. This method lets us format the `datetime` as desired. We visit `strftime.org` to comprehend the syntax for customizing the date presentation.\n",
    "\n",
    "Finally, with both the title and the prettified date at hand, we use an F-string to combine them into a cohesive, user-friendly format. This presents a streamlined list of blog posts, complete with dates and titles.\n",
    "\n",
    "Keep in mind that web scraping's effectiveness hinges on website consistency. Should the site structure alter, our scraper could falter. However, for targeted use cases, web scraping proves an engaging method to fetch information dynamically."
   ]
  },
  {
   "cell_type": "code",
   "execution_count": 16,
   "metadata": {},
   "outputs": [
    {
     "name": "stdout",
     "output_type": "stream",
     "text": [
      "Sep 13 2019 - Get Rid of Photo Bombers\n",
      "Sep 12 2019 - The External Light Meter: Your New Best Friend\n",
      "Sep 11 2019 - Bridal Gown: Capturing the Details of the Dress\n",
      "Sep 10 2019 - Shooting a Wedding\n",
      "Sep 09 2019 - The Growth of Baby Jill\n",
      "Sep 08 2019 - Jake Neopolt, “Fire in the Sky” album cover\n",
      "Sep 07 2019 - Chen Family\n",
      "Sep 06 2019 - Juliane and Hanz\n",
      "Sep 05 2019 - The Authentic Charm of Coney Island\n",
      "Sep 04 2019 - Brooklyn Bridge – One Bridge, So Many Options\n"
     ]
    }
   ],
   "source": [
    "# Import the datetime module to work with date and time objects\n",
    "import datetime\n",
    "\n",
    "# Find all the article tags with the class \"type-post\"\n",
    "blogs = soup.find_all('article', class_=\"type-post\")\n",
    "\n",
    "# Loop through each blog post\n",
    "for blog in blogs:\n",
    "    # Find the anchor tag (a-tag) with the class \"entry-title-link\" and get its text (title)\n",
    "    title = blog.find('a', class_=\"entry-title-link\").get_text()\n",
    "\n",
    "    # Find the time tag with the class \"entry-time\" and get the value of its 'datetime' attribute\n",
    "    blog_datetime_string = blog.find('time', class_=\"entry-time\").get('datetime')\n",
    "\n",
    "    # Convert the datetime string to a datetime object using fromisoformat\n",
    "    blog_datetime = datetime.datetime.fromisoformat(blog_datetime_string)\n",
    "\n",
    "    # Format the datetime object as a pretty date (e.g., \"Sep 01 2023\")\n",
    "    pretty_date = blog_datetime.strftime(\"%b %d %Y\")\n",
    "\n",
    "    # Print the formatted date and the title of the blog post\n",
    "    print(f\"{pretty_date} - {title}\")"
   ]
  },
  {
   "cell_type": "markdown",
   "metadata": {},
   "source": [
    "## Part V: Working with Files"
   ]
  },
  {
   "cell_type": "markdown",
   "metadata": {},
   "source": [
    "### Writing"
   ]
  },
  {
   "cell_type": "markdown",
   "metadata": {},
   "source": [
    "<p align=\"center\"><em>The fundamental writing cheat-sheets can be found below.</em></p>\n"
   ]
  },
  {
   "cell_type": "markdown",
   "metadata": {},
   "source": [
    "In this guide, the process of creating files in Python is explained using the `open()` function. The function is used to establish a connection to a file, and two parameters are provided: the file name and a mode flag that specifies how the file should be treated. There are three main mode options: 'x' for exclusive creation (only if the file doesn't exist), 'w' for writing (overwriting existing content or creating anew), and 'a' for appending (adding to the end of an existing file). The guide demonstrates the usage of these modes by creating a file named \"cheese.txt\" and writing various content to it. It emphasizes the importance of closing the file using the `close()` method to prevent issues. Additionally, the guide covers the use of the `sys.argv` list to accept command-line arguments for dynamic file naming. By following these steps, users can create and manipulate files in Python according to their specific needs."
   ]
  },
  {
   "cell_type": "markdown",
   "metadata": {},
   "source": [
    "#### Opening a File for Writing\n",
    "\n",
    "##### Open a File in Write Mode\n",
    "```python\n",
    "file = open(\"filename.txt\", \"w\")\n",
    "```\n",
    "\n",
    "##### Open a File in Append Mode\n",
    "```python\n",
    "file = open(\"filename.txt\", \"a\")\n",
    "```\n",
    "\n",
    "#### Writing to a File\n",
    "\n",
    "##### Write a String to the File\n",
    "```python\n",
    "file.write(\"Hello, World!\")\n",
    "```\n",
    "\n",
    "##### Write Multiple Lines to the File\n",
    "```python\n",
    "lines = [\"Line 1\\n\", \"Line 2\\n\", \"Line 3\\n\"]\n",
    "file.writelines(lines)\n",
    "```\n",
    "\n",
    "##### Write with Automatic Line Break\n",
    "```python\n",
    "file.write(\"Line 1\")\n",
    "file.write(\"Line 2\")\n",
    "file.write(\"Line 3\")\n",
    "```\n",
    "\n",
    "#### Closing a File\n",
    "\n",
    "##### Close the File\n",
    "```python\n",
    "file.close()\n",
    "```\n",
    "\n",
    "#### Using the `with` Statement (Automatically Closes the File)\n",
    "\n",
    "##### Write Using `with` Statement\n",
    "```python\n",
    "with open(\"filename.txt\", \"w\") as file:\n",
    "    file.write(\"Content\")\n",
    "```\n",
    "\n",
    "#### Error Handling\n",
    "\n",
    "##### Handle File Writing Errors\n",
    "```python\n",
    "try:\n",
    "    with open(\"filename.txt\", \"w\") as file:\n",
    "        file.write(\"Content\")\n",
    "except IOError as e:\n",
    "    print(\"An error occurred:\", e)\n",
    "```\n",
    "\n",
    "#### File Flushing\n",
    "\n",
    "##### Flush the Buffer to the File\n",
    "```python\n",
    "file.flush()\n",
    "```\n",
    "\n",
    "#### Writing Binary Data\n",
    "\n",
    "##### Write Binary Data to a File\n",
    "```python\n",
    "with open(\"binary_file.bin\", \"wb\") as file:\n",
    "    data = b'\\x00\\x01\\x02\\x03'\n",
    "    file.write(data)\n",
    "```\n",
    "\n",
    "#### Using `print()` Function to Write to a File\n",
    "\n",
    "##### Write Using `print()` with a File Argument\n",
    "```python\n",
    "with open(\"filename.txt\", \"w\") as file:\n",
    "    print(\"Line 1\", file=file)\n",
    "    print(\"Line 2\", file=file)\n",
    "```\n",
    "\n",
    "#### Note\n",
    "\n",
    "Remember to replace `\"filename.txt\"` and `\"binary_file.bin\"` with your desired file names. Always handle exceptions appropriately and make sure to close files after writing to them."
   ]
  },
  {
   "cell_type": "markdown",
   "metadata": {},
   "source": [
    "### Reading"
   ]
  },
  {
   "cell_type": "markdown",
   "metadata": {},
   "source": [
    "<p align=\"center\"><em>The fundamental reading cheat-sheets can be found below.</em></p>"
   ]
  },
  {
   "cell_type": "markdown",
   "metadata": {},
   "source": [
    "This tutorial outlines how to read an existing file in Python using the `open()` function. Readers are introduced to different techniques for reading file content. The guide starts by discussing the basics of file reading and the use of the `'r'` mode flag, which stands for read. The guide demonstrates reading the entire file content into a string using the `file.read()` method and shows how to read lines from the file into a list using `file.readlines()`. It also explains how to read the file line by line using a `for` loop. An example challenge is provided, encouraging readers to create a file with numbers and then develop a Python script to read and perform calculations on those numbers. The guide emphasizes the importance of properly closing files and offers practical insights into efficient file reading methods."
   ]
  },
  {
   "cell_type": "markdown",
   "metadata": {},
   "source": [
    "#### `open()` Function\n",
    "```python\n",
    "# Basic file reading\n",
    "with open('filename.txt', 'r') as file:\n",
    "    content = file.read()\n",
    "\n",
    "## Read lines into a list\n",
    "with open('filename.txt', 'r') as file:\n",
    "    lines = file.readlines()\n",
    "\n",
    "##### Iterating Through Lines\n",
    "```python\n",
    "with open('filename.txt', 'r') as file:\n",
    "    for line in file:\n",
    "        print(line)\n",
    "```\n",
    "\n",
    "##### Reading N Characters\n",
    "```python\n",
    "with open('filename.txt', 'r') as file:\n",
    "    n_characters = 10\n",
    "    content = file.read(n_characters)\n",
    "```\n",
    "\n",
    "##### Using `readline()`\n",
    "```python\n",
    "with open('filename.txt', 'r') as file:\n",
    "    line1 = file.readline()\n",
    "    line2 = file.readline()\n",
    "```\n",
    "\n",
    "#### Reading Binary Files\n",
    "\n",
    "##### Reading Binary Data\n",
    "```python\n",
    "with open('file.bin', 'rb') as file:\n",
    "    binary_data = file.read()\n",
    "```\n",
    "\n",
    "##### Reading Specific Number of Bytes\n",
    "```python\n",
    "with open('file.bin', 'rb') as file:\n",
    "    bytes_to_read = 1024\n",
    "    binary_data = file.read(bytes_to_read)\n",
    "```\n",
    "\n",
    "#### Using `os` Module\n",
    "\n",
    "##### Checking File Existence\n",
    "```python\n",
    "import os\n",
    "\n",
    "file_exists = os.path.exists('filename.txt')\n",
    "```\n",
    "\n",
    "##### Getting File Size\n",
    "```python\n",
    "file_size = os.path.getsize('filename.txt')\n",
    "```\n",
    "\n",
    "##### Checking if Path is a File\n",
    "```python\n",
    "is_file = os.path.isfile('filename.txt')\n",
    "```\n",
    "\n",
    "#### Using `pathlib` Module\n",
    "\n",
    "##### Reading Text File\n",
    "```python\n",
    "from pathlib import Path\n",
    "\n",
    "file_path = Path('filename.txt')\n",
    "content = file_path.read_text()\n",
    "```\n",
    "\n",
    "##### Reading Binary File\n",
    "```python\n",
    "binary_file_path = Path('file.bin')\n",
    "binary_data = binary_file_path.read_bytes()\n",
    "```\n",
    "\n",
    "Remember to replace `'filename.txt'` and `'file.bin'` with your actual file paths."
   ]
  },
  {
   "cell_type": "markdown",
   "metadata": {},
   "source": [
    "### Editing"
   ]
  },
  {
   "cell_type": "markdown",
   "metadata": {},
   "source": [
    "<p align=\"center\"><em>The fundamental editing cheat-sheets can be found below.</em></p>"
   ]
  },
  {
   "cell_type": "markdown",
   "metadata": {},
   "source": [
    "When editing a file in Python, the process involves both reading an existing file and making changes to its content before saving the modified data. This combination of reading and writing is facilitated using the `open()` function. By providing a file path and an appropriate mode, such as 'r+' for both reading and writing, or 'w+' for reading and writing (which clears the file first), you can manipulate the file content.\n",
    "\n",
    "To demonstrate a preferred method for file editing, a step-by-step approach is outlined. Firstly, the file is read using `file.read()` to retrieve its content and store it in a variable. Next, desired edits are made, such as appending, modifying lines, or inserting new lines. To implement these changes, the file is opened again, this time with 'w' mode, ensuring the previous content is overwritten. Within this stage, each line to be saved is written back using `file.write()`, which can accept a list of lines.\n",
    "\n",
    "For instance, appending content involves reading the file, performing edits, and then writing the modified content back. Similarly, inserting new lines or modifying specific lines can be accomplished using index manipulation within the list of lines. It's essential to remember adding newline characters when writing lines to ensure proper formatting.\n",
    "\n",
    "However, for adding content to the end of a file, a nuanced approach is required due to newline formatting peculiarities. To prevent issues, the last line's newline is retained, and a new line is appended before the additional content.\n",
    "\n",
    "In conclusion, editing files in Python necessitates a strategy that combines reading, editing, and writing, with careful attention to formatting and newline characters. This method provides control over file modifications, ensuring efficient and accurate edits."
   ]
  },
  {
   "cell_type": "markdown",
   "metadata": {},
   "source": [
    "##### Writing to an Existing File\n",
    "```python\n",
    "with open('filename.txt', 'w') as file:\n",
    "    file.write(\"Hello, world!\\n\")\n",
    "```\n",
    "\n",
    "##### Appending to a Text File\n",
    "```python\n",
    "with open('filename.txt', 'a') as file:\n",
    "    file.write(\"This will be appended.\\n\")\n",
    "```\n",
    "\n",
    "#### Writing Binary Data\n",
    "\n",
    "##### Writing Binary Data to a File\n",
    "```python\n",
    "binary_data = b'\\x00\\x01\\x02'\n",
    "with open('file.bin', 'wb') as file:\n",
    "    file.write(binary_data)\n",
    "```\n",
    "\n",
    "#### Using `os` Module for File Operations\n",
    "\n",
    "##### Renaming a File\n",
    "```python\n",
    "import os\n",
    "\n",
    "os.rename('old_filename.txt', 'new_filename.txt')\n",
    "```\n",
    "\n",
    "##### Deleting a File\n",
    "```python\n",
    "import os\n",
    "\n",
    "os.remove('filename.txt')\n",
    "```\n",
    "\n",
    "#### Using `pathlib` Module for File Operations\n",
    "\n",
    "##### Renaming a File\n",
    "```python\n",
    "from pathlib import Path\n",
    "\n",
    "old_path = Path('old_filename.txt')\n",
    "new_path = Path('new_filename.txt')\n",
    "old_path.rename(new_path)\n",
    "```\n",
    "\n",
    "##### Deleting a File\n",
    "```python\n",
    "from pathlib import Path\n",
    "\n",
    "file_path = Path('filename.txt')\n",
    "file_path.unlink()\n",
    "```\n",
    "\n",
    "#### Using `shutil` Module for File Operations\n",
    "\n",
    "##### Copying a File\n",
    "```python\n",
    "import shutil\n",
    "\n",
    "shutil.copy('source.txt', 'destination.txt')\n",
    "```\n",
    "\n",
    "##### Moving a File\n",
    "```python\n",
    "import shutil\n",
    "\n",
    "shutil.move('old_location/file.txt', 'new_location/file.txt')\n",
    "```\n",
    "\n",
    "Remember to replace `'filename.txt'`, `'file.bin'`, `'old_filename.txt'`, `'new_filename.txt'`, `'source.txt'`, `'destination.txt'`, `'old_location/file.txt'`, and `'new_location/file.txt'` with your actual file paths."
   ]
  },
  {
   "cell_type": "markdown",
   "metadata": {},
   "source": []
  }
 ],
 "metadata": {
  "kernelspec": {
   "display_name": "Python 3 (ipykernel)",
   "language": "python",
   "name": "python3"
  },
  "language_info": {
   "codemirror_mode": {
    "name": "ipython",
    "version": 3
   },
   "file_extension": ".py",
   "mimetype": "text/x-python",
   "name": "python",
   "nbconvert_exporter": "python",
   "pygments_lexer": "ipython3",
   "version": "3.10.12"
  }
 },
 "nbformat": 4,
 "nbformat_minor": 2
}
